{
 "cells": [
  {
   "cell_type": "markdown",
   "id": "5b968e80",
   "metadata": {},
   "source": [
    "# 017-ORF\n",
    "\n",
    "担当: 久野 朗広"
   ]
  },
  {
   "cell_type": "markdown",
   "id": "274bbb5b",
   "metadata": {},
   "source": [
    "## 転写はどこからでも始まる可能性がある\n",
    "\n",
    "### 図1：特定のORF（開始コドンと停止コドンが示された）の模式図\n",
    "\n",
    "「DNAからRNAへの転写」では、DNAがRNAに転写されるプロセスについて説明しました。また、「RNAからタンパク質への翻訳」では、RNAがアミノ酸の鎖に翻訳されてタンパク質が作られる過程を見てきました。これら2つのプロセスを一連のステップと捉え、DNA文字列を直接タンパク質文字列へと変換することで、DNAコドン表の使用が求められます。\n",
    "\n",
    "しかし、DNAから直接タンパク質への変換を試みる際に、すぐに3つの複雑さが立ちはだかります。\n",
    "\n",
    "1. **すべてのDNAがRNAに転写されるわけではない**  \n",
    "   いわゆる「ジャンクDNA」は、細胞の機能にとって実用的な目的を持たないように見えます。\n",
    "\n",
    "2. **RNA上の任意の位置から翻訳を開始できる**  \n",
    "   つまり、DNA文字列の任意の部分文字列が、開始コドンで始まり停止コドンで終わり、途中に他の停止コドンがなければ、翻訳のテンプレートとして機能します（図1参照）。  \n",
    "   この結果、同じRNA文字列でも、コドン（3文字）をどう区切るかによって3通りの翻訳が可能になります。  \n",
    "   たとえば、`...AUGCUGAC...` は次のように3通りに翻訳できます：\n",
    "   - `...AUG CUG...`\n",
    "   - `...UGC UGA...`\n",
    "   - `...GCU GAC...`  \n",
    "   通常、これらはまったく異なるタンパク質文字列を生じさせます。\n",
    "\n",
    "---\n",
    "\n",
    "### 問題\n",
    "\n",
    "DNA二重らせんのどちらの鎖も、RNA転写におけるコード鎖となる可能性があります。したがって、1つのDNA文字列から合計6通りの読み枠（リーディングフレーム）が導かれます：\n",
    "\n",
    "- 3通りはDNA文字列自身を読み取ることで得られます。\n",
    "- 残りの3通りは、その逆相補鎖を読み取ることで得られます。\n",
    "\n",
    "**オープンリーディングフレーム（ORF）**とは、開始コドンから始まり、途中に他の停止コドンを挟まずに停止コドンで終わる領域のことです。したがって、候補となるタンパク質文字列は、ORFをアミノ酸に翻訳することで、停止コドンに達するまでに得られたものになります。\n",
    "\n",
    "---\n",
    "\n",
    "### 入力：  \n",
    "FASTA形式で与えられた長さ最大1 kbpのDNA文字列 `s`\n",
    "\n",
    "### 出力：  \n",
    "`s` のORFから翻訳されたすべての**異なる候補タンパク質文字列**を返してください。文字列の出力順は任意です。\n",
    "\n",
    "---\n",
    "\n",
    "### サンプル入力\n",
    "\n",
    "```\n",
    ">Rosalind_99  \n",
    "AGCCATGTAGCTAACTCAGGTTACATGGGGATGACCCCGCGACTTGGATTAGAGTCTCTTTTGGAATAAGCCTGAATGATCCGAGTAGCATCTCAG\n",
    "```\n",
    "\n",
    "### サンプル出力\n",
    "\n",
    "```\n",
    "MLLGSFRLIPKETLIQVAGSSPCNLS  \n",
    "M  \n",
    "MGMTPRLGLESLLE  \n",
    "MTPRLGLESLLE\n",
    "```\n"
   ]
  },
  {
   "cell_type": "markdown",
   "id": "a484b363",
   "metadata": {},
   "source": [
    "## 解答例"
   ]
  },
  {
   "cell_type": "code",
   "execution_count": 2,
   "id": "87c6dd6d",
   "metadata": {},
   "outputs": [],
   "source": [
    "# コドン表（ストップコドンは *）\n",
    "codon_table = {\n",
    "    'ATA': 'I', 'ATC': 'I', 'ATT': 'I', 'ATG': 'M',\n",
    "    'ACA': 'T', 'ACC': 'T', 'ACG': 'T', 'ACT': 'T',\n",
    "    'AAC': 'N', 'AAT': 'N', 'AAA': 'K', 'AAG': 'K',\n",
    "    'AGC': 'S', 'AGT': 'S', 'AGA': 'R', 'AGG': 'R',\n",
    "    'CTA': 'L', 'CTC': 'L', 'CTG': 'L', 'CTT': 'L',\n",
    "    'CCA': 'P', 'CCC': 'P', 'CCG': 'P', 'CCT': 'P',\n",
    "    'CAC': 'H', 'CAT': 'H', 'CAA': 'Q', 'CAG': 'Q',\n",
    "    'CGA': 'R', 'CGC': 'R', 'CGG': 'R', 'CGT': 'R',\n",
    "    'GTA': 'V', 'GTC': 'V', 'GTG': 'V', 'GTT': 'V',\n",
    "    'GCA': 'A', 'GCC': 'A', 'GCG': 'A', 'GCT': 'A',\n",
    "    'GAC': 'D', 'GAT': 'D', 'GAA': 'E', 'GAG': 'E',\n",
    "    'TCA': 'S', 'TCC': 'S', 'TCG': 'S', 'TCT': 'S',\n",
    "    'TTC': 'F', 'TTT': 'F', 'TTA': 'L', 'TTG': 'L',\n",
    "    'TAC': 'Y', 'TAT': 'Y', 'TAA': '*', 'TAG': '*',\n",
    "    'TGC': 'C', 'TGT': 'C', 'TGA': '*', 'TGG': 'W'\n",
    "}\n"
   ]
  },
  {
   "cell_type": "markdown",
   "id": "d8967987",
   "metadata": {},
   "source": [
    "## reモジュールを使う"
   ]
  },
  {
   "cell_type": "code",
   "execution_count": 46,
   "id": "c5f3ef05",
   "metadata": {},
   "outputs": [],
   "source": [
    "import re\n",
    "\n",
    "# コドン表（DNAベース、T表記）\n",
    "codon_table = {\n",
    "    'TTT': 'F', 'TTC': 'F', 'TTA': 'L', 'TTG': 'L',\n",
    "    'CTT': 'L', 'CTC': 'L', 'CTA': 'L', 'CTG': 'L',\n",
    "    'ATT': 'I', 'ATC': 'I', 'ATA': 'I', 'ATG': 'M',\n",
    "    'GTT': 'V', 'GTC': 'V', 'GTA': 'V', 'GTG': 'V',\n",
    "    'TCT': 'S', 'TCC': 'S', 'TCA': 'S', 'TCG': 'S',\n",
    "    'CCT': 'P', 'CCC': 'P', 'CCA': 'P', 'CCG': 'P',\n",
    "    'ACT': 'T', 'ACC': 'T', 'ACA': 'T', 'ACG': 'T',\n",
    "    'GCT': 'A', 'GCC': 'A', 'GCA': 'A', 'GCG': 'A',\n",
    "    'TAT': 'Y', 'TAC': 'Y', 'TAA': '*', 'TAG': '*',\n",
    "    'CAT': 'H', 'CAC': 'H', 'CAA': 'Q', 'CAG': 'Q',\n",
    "    'AAT': 'N', 'AAC': 'N', 'AAA': 'K', 'AAG': 'K',\n",
    "    'GAT': 'D', 'GAC': 'D', 'GAA': 'E', 'GAG': 'E',\n",
    "    'TGT': 'C', 'TGC': 'C', 'TGA': '*', 'TGG': 'W',\n",
    "    'CGT': 'R', 'CGC': 'R', 'CGA': 'R', 'CGG': 'R',\n",
    "    'AGT': 'S', 'AGC': 'S', 'AGA': 'R', 'AGG': 'R',\n",
    "    'GGT': 'G', 'GGC': 'G', 'GGA': 'G', 'GGG': 'G'\n",
    "}\n",
    "\n",
    "def revcomp(S):\n",
    "    \"\"\"DNA文字列の逆補鎖を返す関数\"\"\"\n",
    "    complement = {'A': 'T', 'T': 'A', 'C': 'G', 'G': 'C'}\n",
    "    return ''.join(complement[base] for base in S[::-1])\n",
    "\n",
    "def translate_orf(dna, regex_pattern):\n",
    "    protein_set = set()\n",
    "    for frame in range(3):\n",
    "        sub = dna[frame:]\n",
    "        for match in regex_pattern.finditer(sub):\n",
    "            codon_seq = match.group(1)\n",
    "            amino_acids = []\n",
    "            for i in range(0, len(codon_seq), 3):\n",
    "                codon = codon_seq[i:i+3]\n",
    "                aa = codon_table.get(codon, '')\n",
    "                if aa == '*' or len(codon) < 3:\n",
    "                    break\n",
    "                amino_acids.append(aa)\n",
    "            protein_set.add(''.join(amino_acids))\n",
    "    return protein_set\n",
    "\n",
    "def parse_fasta(fasta):\n",
    "    lines = fasta.strip().split('\\n')\n",
    "    return ''.join(line for line in lines if not line.startswith('>'))"
   ]
  },
  {
   "cell_type": "code",
   "execution_count": 47,
   "id": "46720f79",
   "metadata": {},
   "outputs": [
    {
     "name": "stdout",
     "output_type": "stream",
     "text": [
      "M\n",
      "MLLGSFRLIPKETLIQVAGSSPCNLS\n",
      "MTPRLGLESLLE\n",
      "MGMTPRLGLESLLE\n"
     ]
    }
   ],
   "source": [
    "# 入力FASTA\n",
    "fasta_input = \"\"\">Rosalind_99  \n",
    "AGCCATGTAGCTAACTCAGGTTACATGGGGATGACCCCGCGACTTGGATTAGAGTCTCTTTTGGAATAAGCCTGAATGATCCGAGTAGCATCTCAG\"\"\"\n",
    "\n",
    "dna_seq = parse_fasta(fasta_input)\n",
    "revcomp_seq = revcomp(dna_seq)\n",
    "\n",
    "proteins = set()\n",
    "\n",
    "# 肯定先読み ＆ 正規表現をコンパイルして高速化\n",
    "regex_pattern = re.compile(r'(?=(ATG(?:...)*?(?:TAA|TAG|TGA)))')\n",
    "\n",
    "for seq in [dna_seq, revcomp_seq]:\n",
    "    proteins.update(translate_orf(seq, regex_pattern))\n",
    "\n",
    "for p in proteins:\n",
    "    print(p)\n"
   ]
  },
  {
   "cell_type": "code",
   "execution_count": null,
   "id": "e9a96de4",
   "metadata": {},
   "outputs": [],
   "source": []
  }
 ],
 "metadata": {
  "kernelspec": {
   "display_name": "base",
   "language": "python",
   "name": "python3"
  },
  "language_info": {
   "codemirror_mode": {
    "name": "ipython",
    "version": 3
   },
   "file_extension": ".py",
   "mimetype": "text/x-python",
   "name": "python",
   "nbconvert_exporter": "python",
   "pygments_lexer": "ipython3",
   "version": "3.10.14"
  }
 },
 "nbformat": 4,
 "nbformat_minor": 5
}
