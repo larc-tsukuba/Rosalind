{
 "cells": [
  {
   "cell_type": "markdown",
   "id": "58cb681b",
   "metadata": {},
   "source": [
    "# 配列と GC 含量を用いた確率計算\n",
    "\n",
    "## 配列\n",
    "配列（array）とは、順序付けられたオブジェクト（数値、文字列、他の配列など）の集まりを格納する構造です。  \n",
    "配列 **A** の k 番目の値を **A[k]** と表記します。  \n",
    "\n",
    "配列は、1 行しか持たない行列と考えることもできます。\n",
    "\n",
    "---\n",
    "\n",
    "## ランダム文字列\n",
    "**ランダム文字列**は、各記号を選択する確率があらかじめ定められた記号の出現頻度に基づいて構築されます。\n",
    "\n",
    "---\n",
    "\n",
    "## GC 含量\n",
    "DNA 文字列をランダムに構築する場合、**GC 含量（GC-content）**が自然な記号頻度を与えます。  \n",
    "\n",
    "- GC 含量が **x** のとき：  \n",
    "  - **C** と **G** の出現頻度 = `x / 2`  \n",
    "  - **A** と **T** の出現頻度 = `(1 − x) / 2`  \n",
    "\n",
    "### 例\n",
    "GC 含量が **40%** の場合：\n",
    "- 次に選ばれる記号が **G または C** である確率 = `0.2`  \n",
    "- 次に選ばれる記号が **A または T** である確率 = `0.3`  \n",
    "\n",
    "---\n",
    "\n",
    "## 小さい確率の扱い\n",
    "実際には、多くの確率が非常に小さな値になることがあります。  \n",
    "小さな確率を扱いやすくするために、それらを比較のために「拡大」してくれる関数に代入します。  \n",
    "\n",
    "ここで用いるのが **常用対数（log10）** です。  \n",
    "\n",
    "- 定義： `log10(x)` （x > 0）  \n",
    "- 意味：10 を何乗すれば **x** になるかを表す。  \n",
    "\n",
    "---\n",
    "\n",
    "## 常用対数の性質\n",
    "関数 **y = log10(x)** のグラフ（図 1 を参照）を見ると：\n",
    "\n",
    "- `0 < x < 1` の範囲では、  \n",
    "  **対数値は −∞ から 0 の間に写像される**。  \n",
    "- **x が 0 に近いほど log10(x) → −∞**  \n",
    "- **x が 1 に近いほど log10(x) → 0**  \n",
    "\n",
    "したがって、**小さな確率値を比較するために常用対数を用いる**ことにします。\n",
    "\n",
    "---\n",
    "\n",
    "## 問題設定\n",
    "- **与えられるもの**:  \n",
    "  - 長さが最大 **100 bp** の DNA 文字列 **s**  \n",
    "  - 0 から 1 の間の数を最大 20 個含む配列 **A**  \n",
    "\n",
    "- **求めるもの**:  \n",
    "  - 配列 **B** （A と同じ長さ）  \n",
    "  - 各要素 **B[k]** は、GC 含量 **A[k]** をもとに構築されたランダム文字列が **s** と完全一致する確率の常用対数。  \n"
   ]
  },
  {
   "cell_type": "code",
   "execution_count": 1,
   "id": "ab62b2a7",
   "metadata": {},
   "outputs": [],
   "source": [
    "import math\n",
    "\n",
    "def count_gc(seq):\n",
    "    gc_conts = seq.count('G') + seq.count('C')\n",
    "    return gc_conts\n",
    "\n",
    "def calculate_probability(seq,gc_prob):\n",
    "    at_prob = (1 - gc_prob) / 2\n",
    "    gc_prob = gc_prob / 2\n",
    "    prob = (gc_prob ** count_gc(seq)) * (at_prob ** (len(seq) - count_gc(seq)))\n",
    "    log_prob = math.log10(prob)\n",
    "    return log_prob"
   ]
  },
  {
   "cell_type": "code",
   "execution_count": 2,
   "id": "3b6df667",
   "metadata": {},
   "outputs": [],
   "source": [
    "def main(seq, prob_list):\n",
    "    results = []\n",
    "    for prob in prob_list:\n",
    "        results.append(calculate_probability(seq, prob))\n",
    "    return results"
   ]
  },
  {
   "cell_type": "code",
   "execution_count": 3,
   "id": "f0886202",
   "metadata": {},
   "outputs": [],
   "source": [
    "sample_seq =  \"ACGATACAA\"\n",
    "sample_prob = [0.129, 0.287, 0.423, 0.476, 0.641, 0.742, 0.783]"
   ]
  },
  {
   "cell_type": "code",
   "execution_count": 4,
   "id": "4ecc3a98",
   "metadata": {},
   "outputs": [
    {
     "data": {
      "text/plain": [
       "[-5.7373919000321045,\n",
       " -5.21708709166266,\n",
       " -5.263193979916315,\n",
       " -5.360461380911992,\n",
       " -5.958129180949464,\n",
       " -6.628340009359368,\n",
       " -7.009226271710824]"
      ]
     },
     "execution_count": 4,
     "metadata": {},
     "output_type": "execute_result"
    }
   ],
   "source": [
    "main(sample_seq, sample_prob)"
   ]
  }
 ],
 "metadata": {
  "kernelspec": {
   "display_name": "base",
   "language": "python",
   "name": "python3"
  },
  "language_info": {
   "codemirror_mode": {
    "name": "ipython",
    "version": 3
   },
   "file_extension": ".py",
   "mimetype": "text/x-python",
   "name": "python",
   "nbconvert_exporter": "python",
   "pygments_lexer": "ipython3",
   "version": "3.11.5"
  }
 },
 "nbformat": 4,
 "nbformat_minor": 5
}
