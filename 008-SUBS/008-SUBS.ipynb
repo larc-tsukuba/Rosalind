{
 "cells": [
  {
   "cell_type": "markdown",
   "id": "ee4ee1bb",
   "metadata": {},
   "source": [
    "# 008-SUBS\n",
    "担当: 松本生成"
   ]
  },
  {
   "cell_type": "markdown",
   "id": "d38ffee0",
   "metadata": {},
   "source": [
    "# 課題の概要\n",
    "- 二つの遺伝子配列`s`,`t`が与えられる\n",
    "- `len(s) > len(t)`であり、`s`の内部には`t`の配列が出現する\n",
    "- 二つの配列が一致する場所の開始点となる塩基が何番目かを出力する\n",
    "- 注意点 outputは1-baseにすること"
   ]
  },
  {
   "cell_type": "markdown",
   "id": "7b0303e7",
   "metadata": {},
   "source": [
    "# 課題のコンセプト\n",
    "- 異なる種において、遺伝子中に同じ配列が存在するなら、その領域は機能的に保存されている可能性がある\n",
    "- こういった共通する配列を`motif`として定義している\n",
    "- `motif`はゲノム中に繰り返し出現することがある。これを`repeats`として定義する\n",
    "- 有名な`repeat`の例としては、Alu配列が知られている。\n",
    "- Alu配列は最も頻繁にみられるレトロトランスポゾンであり、ヒトゲノム全体では100万以上のコピーが存在する"
   ]
  },
  {
   "cell_type": "markdown",
   "id": "4b020fef",
   "metadata": {},
   "source": [
    "# 解法1\n",
    "- `re`の`finditer()`を使う\n",
    "- `finditer(pattern, string)` stringに含まれるすべてのpatternの開始点、終了点をタプルで出力する`(start,end)`\n",
    "- デフォルトでは`finditer()`は`pattern`と`string`のマッチを行い、マッチがある場合、マッチの`end`から再び検索する仕様になっている\n",
    "- つまり、マッチ間に重なりがある場合は無視される\n",
    "- 正規表現の肯定先読みを使えば重なりを考慮できる（直後にpatternが来るかだけ確認して、配列の取得はしない）"
   ]
  },
  {
   "cell_type": "code",
   "execution_count": 11,
   "id": "e8dcc7cf",
   "metadata": {},
   "outputs": [
    {
     "name": "stdout",
     "output_type": "stream",
     "text": [
      "2 4 10\n"
     ]
    }
   ],
   "source": [
    "import re\n",
    "\n",
    "s = 'GATATATGCATATACTT'\n",
    "t = 'ATAT'\n",
    "\n",
    "def motif_finder(long_sequence:str, short_sequence:str):\n",
    "    motif_start = []\n",
    "    for motif in re.finditer(f'(?={short_sequence})',long_sequence): # f-stringを使って文字列に変数を埋め込む\n",
    "        motif = motif.start() +1 #模範解答は1-base, startだけを取得する\n",
    "        motif_start.append(str(motif)) # 模範解答がスペース区切りなので、一度文字列にしてからjoinする\n",
    "    return ' '.join(motif_start) \n",
    "\n",
    "\n",
    "print(motif_finder(s,t))"
   ]
  },
  {
   "cell_type": "markdown",
   "id": "6d6d470c",
   "metadata": {},
   "source": [
    "#　解法２\n",
    "- `string`の配列を左から1塩基づつずらしつつ、`pattern`の塩基数分だけ取得する\n",
    "- 取得した配列`long_sequence[i:i+len(short_sequence)]`と`pattern`を比較する\n",
    "- 一致していればその時の開始点`i`を`motif_start`に加える"
   ]
  },
  {
   "cell_type": "code",
   "execution_count": 12,
   "id": "07a762ab",
   "metadata": {},
   "outputs": [
    {
     "name": "stdout",
     "output_type": "stream",
     "text": [
      "2 4 10\n"
     ]
    }
   ],
   "source": [
    "s = 'GATATATGCATATACTT'\n",
    "t = 'ATAT'\n",
    "\n",
    "def motif_finder(long_sequence:str, short_sequence:str):\n",
    "    motif_start = []\n",
    "    for i in range(len(long_sequence) - len(short_sequence)+ 1): #エラーにならないので単にlen(long_sequence)でもいい\n",
    "        if long_sequence[i:i+len(short_sequence)] == short_sequence:\n",
    "            motif_start.append(str(i+1)) # 1-baseなので1を足す\n",
    "    return ' '.join(motif_start)\n",
    "\n",
    "print(motif_finder(s,t))"
   ]
  }
 ],
 "metadata": {
  "kernelspec": {
   "display_name": "base",
   "language": "python",
   "name": "python3"
  },
  "language_info": {
   "codemirror_mode": {
    "name": "ipython",
    "version": 3
   },
   "file_extension": ".py",
   "mimetype": "text/x-python",
   "name": "python",
   "nbconvert_exporter": "python",
   "pygments_lexer": "ipython3",
   "version": "3.12.7"
  }
 },
 "nbformat": 4,
 "nbformat_minor": 5
}
