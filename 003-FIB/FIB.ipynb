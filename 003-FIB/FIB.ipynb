{
 "cells": [
  {
   "cell_type": "markdown",
   "id": "65ecd0f0",
   "metadata": {},
   "source": [
    "## 課題3 フィボナッチ数列に類する数列の作成\n",
    "\n",
    "フィボナッチ数列に一定の係数がかかった漸化式を作成する．子を生む数をkで与えられるので，\n",
    "\n",
    "Fn = k*Fn-1 + Fn-2\n",
    "\n",
    "によってその値を求めることができる．これを任意のnについて求める\n"
   ]
  },
  {
   "cell_type": "markdown",
   "id": "755e98ba",
   "metadata": {},
   "source": [
    "漸化式に従う方法"
   ]
  },
  {
   "cell_type": "code",
   "execution_count": 1,
   "id": "6d106340",
   "metadata": {},
   "outputs": [],
   "source": [
    "def fibonacci(n:int,k:int):\n",
    "    \"\"\"\n",
    "    args:\n",
    "    n: The Month \n",
    "    k: How many babies every pair of reproduction-age rabbits produce\n",
    "\n",
    "    return:\n",
    "    head: The number of rabbit n month later.\n",
    "    \"\"\"\n",
    "    fn_1 =1\n",
    "    fn_2 =1\n",
    "    head = 0\n",
    "    for i in range(1,n+1):\n",
    "        if i ==1 or i == 2:\n",
    "            head = 1\n",
    "        else:\n",
    "            head = fn_1 + k*fn_2\n",
    "            fn_2 = fn_1\n",
    "            fn_1 = head\n",
    "\n",
    "        \n",
    "    return head\n"
   ]
  },
  {
   "cell_type": "code",
   "execution_count": 2,
   "id": "4dd58a4d",
   "metadata": {},
   "outputs": [
    {
     "data": {
      "text/plain": [
       "(19, 11)"
      ]
     },
     "execution_count": 2,
     "metadata": {},
     "output_type": "execute_result"
    }
   ],
   "source": [
    "fibonacci(5,3), fibonacci(4,5)"
   ]
  },
  {
   "cell_type": "markdown",
   "id": "a79c8dd8",
   "metadata": {},
   "source": [
    "再帰的な手法 "
   ]
  },
  {
   "cell_type": "code",
   "execution_count": 3,
   "id": "638d4eb6",
   "metadata": {},
   "outputs": [],
   "source": [
    "def fibonacci(n:int,k:int):\n",
    "    \"\"\"\n",
    "    args:\n",
    "    n: The Month \n",
    "    k: How many babies every pair of reproduction-age rabbits produce\n",
    "\n",
    "    return:\n",
    "    head: The number of rabbit n month later.\n",
    "    \"\"\"\n",
    "    if n ==1 or n ==2:\n",
    "        return 1\n",
    "    return fibonacci(n-1,k) + k * fibonacci(n-2,1)"
   ]
  },
  {
   "cell_type": "code",
   "execution_count": 4,
   "id": "afdb5aff",
   "metadata": {},
   "outputs": [
    {
     "data": {
      "text/plain": [
       "(13, 11)"
      ]
     },
     "execution_count": 4,
     "metadata": {},
     "output_type": "execute_result"
    }
   ],
   "source": [
    "fibonacci(5,3), fibonacci(4,5)"
   ]
  },
  {
   "cell_type": "markdown",
   "id": "96c2a964",
   "metadata": {},
   "source": [
    "漸化式を解くことで一般項を求めることもできそうだが，平方根が出るので適切ではないと予想される．"
   ]
  }
 ],
 "metadata": {
  "kernelspec": {
   "display_name": "base",
   "language": "python",
   "name": "python3"
  },
  "language_info": {
   "codemirror_mode": {
    "name": "ipython",
    "version": 3
   },
   "file_extension": ".py",
   "mimetype": "text/x-python",
   "name": "python",
   "nbconvert_exporter": "python",
   "pygments_lexer": "ipython3",
   "version": "3.11.4"
  }
 },
 "nbformat": 4,
 "nbformat_minor": 5
}
