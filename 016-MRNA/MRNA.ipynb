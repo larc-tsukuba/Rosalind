{
 "cells": [
  {
   "cell_type": "markdown",
   "id": "4ff4f598",
   "metadata": {},
   "source": [
    "# 問題文\n",
    "\n",
    "## 問題\n",
    "\n",
    "正の整数 `a` と `n` に対して、`a mod n`（略記: `a mod n`）とは、`a` を `n` で割った余りのことを指します。  \n",
    "たとえば、`29 mod 11 = 7` となるのは、`29 = 11 × 2 + 7` であるためです。\n",
    "\n",
    "**剰余算術**（モジュラー算術）は、加算、減算、乗算、除算を mod 演算に基づいて行う数学的手法です。  \n",
    "もし `a mod n = b mod n` であるとき、`a` と `b` は `n` を法として**合同**であるといい、次のように記述します：  \n",
    "`a ≡ b mod n`\n",
    "\n",
    "剰余算術における有用な事実として、以下の性質があります：\n",
    "\n",
    "- もし `a ≡ b mod n` かつ `c ≡ d mod n` ならば  \n",
    "  `a + c ≡ b + d mod n`  \n",
    "  `a × c ≡ b × d mod n`\n",
    "\n",
    "この規則を理解しているか確認するために、次の値を使って実際に確かめてみるとよいでしょう：  \n",
    "`a = 29`, `b = 73`, `c = 10`, `d = 32`, `n = 11`\n",
    "\n",
    "この演習でわかるように、一部の Rosalind の問題では、非常に大きな整数を扱う必要がありますが、  \n",
    "計算上の問題（メモリや処理速度）を回避するために、答えをより小さな数で割った余り（mod）として求めます。\n",
    "\n",
    "---\n",
    "\n",
    "## 与えられるもの\n",
    "\n",
    "長さ最大 1000 アミノ酸からなるタンパク質文字列（Protein String）\n",
    "\n",
    "## 求めるもの\n",
    "\n",
    "そのタンパク質が翻訳された可能性のある **異なる RNA 文字列の総数（mod 1,000,000）** を返してください。  \n",
    "（**ストップコドンの重要性**を無視しないでください）\n",
    "\n",
    "---"
   ]
  },
  {
   "cell_type": "code",
   "execution_count": 1,
   "id": "ee13c1a4",
   "metadata": {},
   "outputs": [],
   "source": [
    "codon_dict = {\n",
    "    \"UUU\": \"F\", \"UUC\": \"F\", \"UUA\": \"L\", \"UUG\": \"L\",\n",
    "    \"CUU\": \"L\", \"CUC\": \"L\", \"CUA\": \"L\", \"CUG\": \"L\",\n",
    "    \"AUU\": \"I\", \"AUC\": \"I\", \"AUA\": \"I\", \"AUG\": \"M\",\n",
    "    \"GUU\": \"V\", \"GUC\": \"V\", \"GUA\": \"V\", \"GUG\": \"V\",\n",
    "    \"UCU\": \"S\", \"UCC\": \"S\", \"UCA\": \"S\", \"UCG\": \"S\",\n",
    "    \"CCU\": \"P\", \"CCC\": \"P\", \"CCA\": \"P\", \"CCG\": \"P\",\n",
    "    \"ACU\": \"T\", \"ACC\": \"T\", \"ACA\": \"T\", \"ACG\": \"T\",\n",
    "    \"GCU\": \"A\", \"GCC\": \"A\", \"GCA\": \"A\", \"GCG\": \"A\",\n",
    "    \"UAU\": \"Y\", \"UAC\": \"Y\", \"UAA\": \"Stop\", \"UAG\": \"Stop\",\n",
    "    \"CAU\": \"H\", \"CAC\": \"H\", \"CAA\": \"Q\", \"CAG\": \"Q\",\n",
    "    \"AAU\": \"N\", \"AAC\": \"N\", \"AAA\": \"K\", \"AAG\": \"K\",\n",
    "    \"GAU\": \"D\", \"GAC\": \"D\", \"GAA\": \"E\", \"GAG\": \"E\",\n",
    "    \"UGU\": \"C\", \"UGC\": \"C\", \"UGA\": \"Stop\", \"UGG\": \"W\",\n",
    "    \"CGU\": \"R\", \"CGC\": \"R\", \"CGA\": \"R\", \"CGG\": \"R\",\n",
    "    \"AGU\": \"S\", \"AGC\": \"S\", \"AGA\": \"R\", \"AGG\": \"R\",\n",
    "    \"GGU\": \"G\", \"GGC\": \"G\", \"GGA\": \"G\", \"GGG\": \"G\"\n",
    "}"
   ]
  },
  {
   "cell_type": "code",
   "execution_count": 2,
   "id": "e0e56e9b",
   "metadata": {},
   "outputs": [
    {
     "data": {
      "text/plain": [
       "{'F': 2,\n",
       " 'L': 6,\n",
       " 'I': 3,\n",
       " 'M': 1,\n",
       " 'V': 4,\n",
       " 'S': 6,\n",
       " 'P': 4,\n",
       " 'T': 4,\n",
       " 'A': 4,\n",
       " 'Y': 2,\n",
       " 'Stop': 3,\n",
       " 'H': 2,\n",
       " 'Q': 2,\n",
       " 'N': 2,\n",
       " 'K': 2,\n",
       " 'D': 2,\n",
       " 'E': 2,\n",
       " 'C': 2,\n",
       " 'W': 1,\n",
       " 'R': 6,\n",
       " 'G': 4}"
      ]
     },
     "execution_count": 2,
     "metadata": {},
     "output_type": "execute_result"
    }
   ],
   "source": [
    "count_codon = {}\n",
    "for _, value in codon_dict.items():\n",
    "    if value not in count_codon:\n",
    "        count_codon[value] = 0\n",
    "    count_codon[value] += 1\n",
    "count_codon"
   ]
  },
  {
   "cell_type": "code",
   "execution_count": 3,
   "id": "e6387ea5",
   "metadata": {},
   "outputs": [],
   "source": [
    "def main(aa_sequence: str,mod = 1000000) -> int:\n",
    "    result = 1\n",
    "    for aa in aa_sequence:\n",
    "        result = (result * count_codon[aa]) % mod\n",
    "    result = (result * count_codon[\"Stop\"]) % mod\n",
    "    return result"
   ]
  },
  {
   "cell_type": "code",
   "execution_count": 4,
   "id": "6816b1e4",
   "metadata": {},
   "outputs": [],
   "source": [
    "seq = \"MA\""
   ]
  },
  {
   "cell_type": "code",
   "execution_count": 5,
   "id": "2c6d80cc",
   "metadata": {},
   "outputs": [
    {
     "data": {
      "text/plain": [
       "12"
      ]
     },
     "execution_count": 5,
     "metadata": {},
     "output_type": "execute_result"
    }
   ],
   "source": [
    "main(seq)"
   ]
  }
 ],
 "metadata": {
  "kernelspec": {
   "display_name": "base",
   "language": "python",
   "name": "python3"
  },
  "language_info": {
   "codemirror_mode": {
    "name": "ipython",
    "version": 3
   },
   "file_extension": ".py",
   "mimetype": "text/x-python",
   "name": "python",
   "nbconvert_exporter": "python",
   "pygments_lexer": "ipython3",
   "version": "3.11.5"
  }
 },
 "nbformat": 4,
 "nbformat_minor": 5
}
