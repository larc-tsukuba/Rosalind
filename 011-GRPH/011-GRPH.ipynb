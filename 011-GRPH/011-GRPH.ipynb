{
 "cells": [
  {
   "cell_type": "markdown",
   "id": "5b968e80",
   "metadata": {},
   "source": [
    "# 011-GRPH\n",
    "\n",
    "担当: 久野 朗広"
   ]
  },
  {
   "cell_type": "markdown",
   "id": "274bbb5b",
   "metadata": {},
   "source": [
    "## グラフ理論の簡単な紹介\n",
    "\n",
    "ネットワークは、特に生物学の分野で、現実世界のあらゆるところに現れます。たとえば、病気の拡散をモデル化するような人気のある応用でもネットワークは多く使われますが、その適用範囲は大衆科学をはるかに超えています。最初の問いは、「ネットワークの図を実際に描かなくても、計算機上でどうモデル化するか？」という点です。\n",
    "\n",
    "まず、いくつかの用語を定義します。\n",
    "\n",
    "- **グラフ**はネットワークの技術的な用語であり、**ノード 頂点**と呼ばれるハブ 接点と、それらを繋ぐ**エッジ 辺**で構成されます。\n",
    "- ノード`v`と`w`を繋ぐエッジがあれば、それは`v,w` または同様に`w,v`と表されます。\n",
    "- エッジ`v,w`はノード`v`と`w`に**接続している incident**と言い、`v`と`w`は互いに**隣接 adjacent**していると言います。\n",
    "- ノード`v`の**次数 degree**は、そのノードに接続しているエッジの数です。\n",
    "- **ウォーク walk**とは、あるエッジの終点が次のエッジの始点になるように並べたエッジの列 例: {v1,v2}, {v2,v3}, {v3,v4}です。\n",
    "- **パス path**とは、各ノードが最大で2回しか登場しないウォークです。\n",
    "- **パス長 path length**は、パスに含まれるエッジの数です。\n",
    "- **サイクル cycle**とは、始点と終点が同じノードで、各ノードがちょうど2つのエッジに接続されているパスです。\n",
    "- 2つのノード間の**距離 distance**とは、それらを結ぶ最短パスの長さのことです。\n",
    "\n",
    "**グラフ理論**とは、グラフおよびその性質を抽象的に数学的に研究する分野です。\n",
    "\n",
    "---\n",
    "\n",
    "## 問題文\n",
    "\n",
    "ノードにラベルが付けられたグラフは、**隣接リストadjacency list**という形で表すことができます。これは、各行に1つのエッジ 2つのノードのラベルのペアを記述したものです。\n",
    "\n",
    "**有向グラフ directed graphまたはdigraph**とは、**向きのある辺 有向エッジ**を持つグラフのことです。有向エッジは、線分ではなく矢印で表され、始点と終点のノードはそれぞれ**尾 tail**と**頭 head**と呼ばれます。有向エッジは`(v,w)` vが尾でwが頭と表され、`(w,v)`とは異なります。また、`(v,v)`のように始点と終点が同じエッジは**有向ループ**と呼ばれます。\n",
    "\n",
    "**文字列の集合と正の整数k**が与えられたとき、その集合に対する**オーバーラップグラフ overlap graph**`Oₖ`は以下のように構成されます：\n",
    "\n",
    "- 各文字列をノードとし、\n",
    "- 文字列`s`の長さ`k`の**接尾辞**と、文字列`t`の長さ`k`の**接頭辞**が一致する場合、sからtに向かう**有向エッジ**を引く ただし、s ≠ t。\n",
    "\n",
    "このとき`s ≠ t`とすることで、有向ループ 自己ループを防ぎます ただし、有向サイクルは存在する可能性があります。\n",
    "\n",
    "---\n",
    "\n",
    "## 与えられるもの\n",
    "\n",
    "FASTA形式で与えられるDNA文字列の集合 総長10kbp以下\n",
    "\n",
    "---\n",
    "\n",
    "## 出力すべきもの\n",
    "\n",
    "長さ3のオーバーラップに基づく隣接リスト `O₃` に対応するエッジの一覧 順不同で可\n",
    "\n",
    "\n"
   ]
  },
  {
   "cell_type": "markdown",
   "id": "a484b363",
   "metadata": {},
   "source": [
    "# 解答例"
   ]
  },
  {
   "cell_type": "code",
   "execution_count": 1,
   "id": "0f65f9dc",
   "metadata": {},
   "outputs": [
    {
     "name": "stdout",
     "output_type": "stream",
     "text": [
      "Current working directory: /mnt/e/LARC-GitHub/Rosalind\n"
     ]
    }
   ],
   "source": [
    "from pathlib import Path\n",
    "import sys\n",
    "import os\n",
    "P = print\n",
    "\n",
    "# 作業ディレクトリを本リポジトリのルートに設定\n",
    "while not Path(os.getcwd(), \"LICENSE\").exists():\n",
    "    os.chdir(\"..\")\n",
    "    if os.getcwd() == \"/\":\n",
    "        P(\"Error: Could not find LICENSE file in parent directories.\")\n",
    "        sys.exit(1)\n",
    "P(\"Current working directory:\", os.getcwd())"
   ]
  },
  {
   "cell_type": "code",
   "execution_count": 2,
   "id": "857715e4",
   "metadata": {},
   "outputs": [],
   "source": [
    "S = \"\"\">Rosalind_0498\n",
    "AAATAAA\n",
    ">Rosalind_2391\n",
    "AAATTTT\n",
    ">Rosalind_2323\n",
    "TTTTCCC\n",
    ">Rosalind_0442\n",
    "AAATCCC\n",
    ">Rosalind_5013\n",
    "GGGTGGG\"\"\".split(\"\\n\")"
   ]
  },
  {
   "cell_type": "code",
   "execution_count": 3,
   "id": "8351fefb",
   "metadata": {},
   "outputs": [],
   "source": [
    "def parse_fasta(lines):\n",
    "    fasta_dict = {}\n",
    "    current_key = None\n",
    "    current_seq = []\n",
    "\n",
    "    for line in lines:\n",
    "        if line.startswith(\">\"):\n",
    "            if current_key:\n",
    "                fasta_dict[current_key] = \"\".join(current_seq)\n",
    "            current_key = line[1:]\n",
    "            current_seq = []\n",
    "        else:\n",
    "            current_seq.append(line)\n",
    "\n",
    "    # 最後のレコードの追加\n",
    "    if current_key:\n",
    "        fasta_dict[current_key] = \"\".join(current_seq)\n",
    "\n",
    "    return fasta_dict"
   ]
  },
  {
   "cell_type": "code",
   "execution_count": 4,
   "id": "001b2816",
   "metadata": {},
   "outputs": [
    {
     "name": "stdout",
     "output_type": "stream",
     "text": [
      "{'Rosalind_0498': 'AAATAAA', 'Rosalind_2391': 'AAATTTT', 'Rosalind_2323': 'TTTTCCC', 'Rosalind_0442': 'AAATCCC', 'Rosalind_5013': 'GGGTGGG'}\n"
     ]
    }
   ],
   "source": [
    "S_fasta = parse_fasta(S)\n",
    "\n",
    "\n",
    "P(S_fasta)"
   ]
  },
  {
   "cell_type": "markdown",
   "id": "ffef6931",
   "metadata": {},
   "source": [
    "## 愚直にO3を求める"
   ]
  },
  {
   "cell_type": "code",
   "execution_count": 5,
   "id": "8d6a897b",
   "metadata": {},
   "outputs": [
    {
     "name": "stdout",
     "output_type": "stream",
     "text": [
      "Rosalind_0498 Rosalind_2391\n",
      "Rosalind_0498 Rosalind_0442\n",
      "Rosalind_2391 Rosalind_2323\n"
     ]
    }
   ],
   "source": [
    "ans = []\n",
    "for key1 in S_fasta:\n",
    "    for key2 in S_fasta:\n",
    "        if key1 == key2:\n",
    "            continue\n",
    "        if S_fasta[key1][-3:] == S_fasta[key2][:3]:\n",
    "            ans.append(f\"{key1} {key2}\")\n",
    "\n",
    "for a in ans:\n",
    "    P(a)"
   ]
  },
  {
   "cell_type": "markdown",
   "id": "0048652a",
   "metadata": {},
   "source": [
    "## itertools.combinationsを使う"
   ]
  },
  {
   "cell_type": "code",
   "execution_count": 11,
   "id": "85b5b6b5",
   "metadata": {},
   "outputs": [
    {
     "name": "stdout",
     "output_type": "stream",
     "text": [
      "Rosalind_0498 Rosalind_2391\n",
      "Rosalind_0498 Rosalind_0442\n",
      "Rosalind_2391 Rosalind_2323\n"
     ]
    }
   ],
   "source": [
    "from itertools import combinations\n",
    "\n",
    "ans = []\n",
    "for key1, key2 in combinations(S_fasta, 2):\n",
    "    if S_fasta[key1][-3:] == S_fasta[key2][:3]:\n",
    "        ans.append(f\"{key1} {key2}\")\n",
    "    if S_fasta[key2][-3:] == S_fasta[key1][:3]:\n",
    "        ans.append(f\"{key2} {key1}\")\n",
    "\n",
    "for a in ans:\n",
    "    P(a)"
   ]
  },
  {
   "cell_type": "code",
   "execution_count": null,
   "id": "e97b8da6",
   "metadata": {},
   "outputs": [
    {
     "ename": "FileNotFoundError",
     "evalue": "[Errno 2] No such file or directory: 'data/rosalind_grph.txt'",
     "output_type": "error",
     "traceback": [
      "\u001b[0;31m---------------------------------------------------------------------------\u001b[0m",
      "\u001b[0;31mFileNotFoundError\u001b[0m                         Traceback (most recent call last)",
      "Cell \u001b[0;32mIn[6], line 1\u001b[0m\n\u001b[0;32m----> 1\u001b[0m S \u001b[38;5;241m=\u001b[39m \u001b[43mPath\u001b[49m\u001b[43m(\u001b[49m\u001b[38;5;124;43m\"\u001b[39;49m\u001b[38;5;124;43mdata\u001b[39;49m\u001b[38;5;124;43m\"\u001b[39;49m\u001b[43m,\u001b[49m\u001b[43m \u001b[49m\u001b[38;5;124;43m\"\u001b[39;49m\u001b[38;5;124;43mrosalind_grph.txt\u001b[39;49m\u001b[38;5;124;43m\"\u001b[39;49m\u001b[43m)\u001b[49m\u001b[38;5;241;43m.\u001b[39;49m\u001b[43mread_text\u001b[49m\u001b[43m(\u001b[49m\u001b[43m)\u001b[49m\u001b[38;5;241m.\u001b[39mstrip()\u001b[38;5;241m.\u001b[39msplit(\u001b[38;5;124m\"\u001b[39m\u001b[38;5;130;01m\\n\u001b[39;00m\u001b[38;5;124m\"\u001b[39m)\n\u001b[1;32m      2\u001b[0m S_fasta \u001b[38;5;241m=\u001b[39m parse_fasta(S)\n\u001b[1;32m      4\u001b[0m \u001b[38;5;28;01mfor\u001b[39;00m s \u001b[38;5;129;01min\u001b[39;00m S:\n",
      "File \u001b[0;32m~/miniforge/envs/base2/lib/python3.12/pathlib.py:1027\u001b[0m, in \u001b[0;36mPath.read_text\u001b[0;34m(self, encoding, errors)\u001b[0m\n\u001b[1;32m   1023\u001b[0m \u001b[38;5;250m\u001b[39m\u001b[38;5;124;03m\"\"\"\u001b[39;00m\n\u001b[1;32m   1024\u001b[0m \u001b[38;5;124;03mOpen the file in text mode, read it, and close the file.\u001b[39;00m\n\u001b[1;32m   1025\u001b[0m \u001b[38;5;124;03m\"\"\"\u001b[39;00m\n\u001b[1;32m   1026\u001b[0m encoding \u001b[38;5;241m=\u001b[39m io\u001b[38;5;241m.\u001b[39mtext_encoding(encoding)\n\u001b[0;32m-> 1027\u001b[0m \u001b[38;5;28;01mwith\u001b[39;00m \u001b[38;5;28;43mself\u001b[39;49m\u001b[38;5;241;43m.\u001b[39;49m\u001b[43mopen\u001b[49m\u001b[43m(\u001b[49m\u001b[43mmode\u001b[49m\u001b[38;5;241;43m=\u001b[39;49m\u001b[38;5;124;43m'\u001b[39;49m\u001b[38;5;124;43mr\u001b[39;49m\u001b[38;5;124;43m'\u001b[39;49m\u001b[43m,\u001b[49m\u001b[43m \u001b[49m\u001b[43mencoding\u001b[49m\u001b[38;5;241;43m=\u001b[39;49m\u001b[43mencoding\u001b[49m\u001b[43m,\u001b[49m\u001b[43m \u001b[49m\u001b[43merrors\u001b[49m\u001b[38;5;241;43m=\u001b[39;49m\u001b[43merrors\u001b[49m\u001b[43m)\u001b[49m \u001b[38;5;28;01mas\u001b[39;00m f:\n\u001b[1;32m   1028\u001b[0m     \u001b[38;5;28;01mreturn\u001b[39;00m f\u001b[38;5;241m.\u001b[39mread()\n",
      "File \u001b[0;32m~/miniforge/envs/base2/lib/python3.12/pathlib.py:1013\u001b[0m, in \u001b[0;36mPath.open\u001b[0;34m(self, mode, buffering, encoding, errors, newline)\u001b[0m\n\u001b[1;32m   1011\u001b[0m \u001b[38;5;28;01mif\u001b[39;00m \u001b[38;5;124m\"\u001b[39m\u001b[38;5;124mb\u001b[39m\u001b[38;5;124m\"\u001b[39m \u001b[38;5;129;01mnot\u001b[39;00m \u001b[38;5;129;01min\u001b[39;00m mode:\n\u001b[1;32m   1012\u001b[0m     encoding \u001b[38;5;241m=\u001b[39m io\u001b[38;5;241m.\u001b[39mtext_encoding(encoding)\n\u001b[0;32m-> 1013\u001b[0m \u001b[38;5;28;01mreturn\u001b[39;00m \u001b[43mio\u001b[49m\u001b[38;5;241;43m.\u001b[39;49m\u001b[43mopen\u001b[49m\u001b[43m(\u001b[49m\u001b[38;5;28;43mself\u001b[39;49m\u001b[43m,\u001b[49m\u001b[43m \u001b[49m\u001b[43mmode\u001b[49m\u001b[43m,\u001b[49m\u001b[43m \u001b[49m\u001b[43mbuffering\u001b[49m\u001b[43m,\u001b[49m\u001b[43m \u001b[49m\u001b[43mencoding\u001b[49m\u001b[43m,\u001b[49m\u001b[43m \u001b[49m\u001b[43merrors\u001b[49m\u001b[43m,\u001b[49m\u001b[43m \u001b[49m\u001b[43mnewline\u001b[49m\u001b[43m)\u001b[49m\n",
      "\u001b[0;31mFileNotFoundError\u001b[0m: [Errno 2] No such file or directory: 'data/rosalind_grph.txt'"
     ]
    }
   ],
   "source": [
    "S = Path(\"data\", \"rosalind_grph.txt\").read_text().strip().split(\"\\n\")\n",
    "S_fasta = parse_fasta(S)\n",
    "\n",
    "ans = []\n",
    "for key1 in S_fasta:\n",
    "    for key2 in S_fasta:\n",
    "        if key1 == key2:\n",
    "            continue\n",
    "        if S_fasta[key1][-3:] == S_fasta[key2][:3]:\n",
    "            ans.append(f\"{key1} {key2}\")\n",
    "\n",
    "Path(\"data/ans_rosalind_grph.txt\").write_text(\"\\n\".join(ans) + \"\\n\")"
   ]
  },
  {
   "cell_type": "code",
   "execution_count": null,
   "id": "4c95194e",
   "metadata": {},
   "outputs": [],
   "source": []
  }
 ],
 "metadata": {
  "kernelspec": {
   "display_name": "base2",
   "language": "python",
   "name": "python3"
  },
  "language_info": {
   "codemirror_mode": {
    "name": "ipython",
    "version": 3
   },
   "file_extension": ".py",
   "mimetype": "text/x-python",
   "name": "python",
   "nbconvert_exporter": "python",
   "pygments_lexer": "ipython3",
   "version": "3.12.8"
  }
 },
 "nbformat": 4,
 "nbformat_minor": 5
}
