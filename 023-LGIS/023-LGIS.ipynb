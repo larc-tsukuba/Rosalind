{
 "cells": [
  {
   "cell_type": "markdown",
   "id": "b5e97627",
   "metadata": {},
   "source": [
    "## 019-Longest Increasing Subsequence\n",
    "\n",
    "---\n",
    "\n",
    "#### 遺伝子順序類似度の単純な指標\n",
    "「Enumerating Gene Orders」では、2つの異なる種から得られた染色体上の遺伝子の順序を比較し、それらが進化の過程でどのように再配列されたかについて議論を始めた。  \n",
    "\n",
    "2つの染色体上の遺伝子を比較する非常に単純な方法のひとつは、両方の染色体で同じ順序に見られる遺伝子の最大集合を探すことである。そのためには置換の概念を使う必要がある。例えば、2つの染色体が n 個の遺伝子を共有しているとする。1つ目の染色体の遺伝子を出現順に 1 から n でラベル付けすると、2つ目の染色体はこれらの番号の置換として表される。このとき、同じ順序で現れる遺伝子の最大数を求めるには、その置換における**最長増加部分列**を探せばよい。  \n",
    "\n",
    "---\n",
    "\n",
    "#### 問題\n",
    "置換の部分列とは、その要素を出現順に並べた要素の集合である。  \n",
    "例えば、(5, 1, 3, 4, 2) の部分列として (5, 3, 4) がある。  \n",
    "\n",
    "部分列が「増加部分列」であるのは、要素が昇順になっている場合であり、「減少部分列」であるのは、要素が降順になっている場合である。  \n",
    "例えば、置換 (8, 2, 1, 6, 5, 7, 4, 3, 9) において、増加部分列は (2, 6, 7, 9)、減少部分列は (8, 6, 5, 4, 3) である。これらが最長であることを確認できる。  \n",
    "\n",
    "---\n",
    "\n",
    "#### 入力  \n",
    "- 正の整数 n (n ≤ 10000)  \n",
    "- 長さ n の置換 π  \n",
    "\n",
    "#### 出力  \n",
    "- π の最長増加部分列  \n",
    "- 続いて π の最長減少部分列  \n",
    "\n",
    "---\n",
    "\n",
    "#### サンプルデータセット\n",
    "```\n",
    "5\n",
    "5 1 4 2 3\n",
    "```\n",
    "\n",
    "#### サンプル出力\n",
    "```\n",
    "1 2 3\n",
    "5 4 2\n",
    "```"
   ]
  },
  {
   "cell_type": "code",
   "execution_count": null,
   "id": "fae71a72",
   "metadata": {},
   "outputs": [
    {
     "name": "stdout",
     "output_type": "stream",
     "text": [
      "1 2 3\n",
      "5 4 3\n"
     ]
    }
   ],
   "source": [
    "# 最長増加(または非減少)部分列を O(n log n) で復元\n",
    "from bisect import bisect_left, bisect_right\n",
    "\n",
    "\n",
    "def lis(seq, strict=True):\n",
    "    # strict=True -> 厳密増加 (x1 < x2), False -> 非減少 (x1 <= x2)\n",
    "    n = len(seq)\n",
    "    tails = []  # 各長さの末尾最小値\n",
    "    tails_idx = []  # その末尾の実インデックス\n",
    "    parent = [-1] * n  # 復元用\n",
    "    bsearch = bisect_left if strict else bisect_right\n",
    "\n",
    "    for i, x in enumerate(seq):\n",
    "        pos = bsearch(tails, x)\n",
    "        if pos == len(tails):\n",
    "            tails.append(x)\n",
    "            tails_idx.append(i)\n",
    "        else:\n",
    "            tails[pos] = x\n",
    "            tails_idx[pos] = i\n",
    "        parent[i] = tails_idx[pos - 1] if pos > 0 else -1\n",
    "\n",
    "    # 復元\n",
    "    idx = tails_idx[-1]\n",
    "    out = []\n",
    "    while idx != -1:\n",
    "        out.append(seq[idx])\n",
    "        idx = parent[idx]\n",
    "    return out[::-1]\n",
    "\n",
    "\n",
    "def lds(seq, strict=True):\n",
    "    # LDS は符号反転して LIS を取る\n",
    "    res = lis([-x for x in seq], strict=strict)\n",
    "    return [-x for x in res]\n",
    "\n",
    "\n",
    "a = [5, 1, 4, 2, 3]\n",
    "print(*lis(a, strict=True))  # -> [1,2,3]\n",
    "print(*lds(a, strict=True))  # -> [5,4,2]"
   ]
  },
  {
   "cell_type": "code",
   "execution_count": 2,
   "id": "0e79fa65",
   "metadata": {},
   "outputs": [],
   "source": [
    "input_aa_sequence = \"SKADYEK\""
   ]
  },
  {
   "cell_type": "code",
   "execution_count": 3,
   "id": "058a43b3",
   "metadata": {},
   "outputs": [],
   "source": [
    "def calculate_monoisotopic_mass(input_aa_sequence, monoisotopic_mass_dict) -> float:\n",
    "    total_mass = 0.0\n",
    "    for aa in input_aa_sequence:\n",
    "        total_mass += monoisotopic_mass_dict[aa]\n",
    "    return total_mass"
   ]
  },
  {
   "cell_type": "code",
   "execution_count": 6,
   "id": "e97e97b2",
   "metadata": {},
   "outputs": [
    {
     "name": "stdout",
     "output_type": "stream",
     "text": [
      "821.392\n"
     ]
    }
   ],
   "source": [
    "monoisotopic_mass = calculate_monoisotopic_mass(\n",
    "    input_aa_sequence, monoisotopic_mass_dict\n",
    ")\n",
    "print(f\"{monoisotopic_mass:.3f}\")"
   ]
  }
 ],
 "metadata": {
  "kernelspec": {
   "display_name": "base2",
   "language": "python",
   "name": "python3"
  },
  "language_info": {
   "codemirror_mode": {
    "name": "ipython",
    "version": 3
   },
   "file_extension": ".py",
   "mimetype": "text/x-python",
   "name": "python",
   "nbconvert_exporter": "python",
   "pygments_lexer": "ipython3",
   "version": "3.12.8"
  }
 },
 "nbformat": 4,
 "nbformat_minor": 5
}
