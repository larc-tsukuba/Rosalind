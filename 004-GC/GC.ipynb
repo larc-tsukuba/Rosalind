{
 "cells": [
  {
   "cell_type": "markdown",
   "id": "f86484fe",
   "metadata": {},
   "source": []
  },
  {
   "cell_type": "code",
   "execution_count": null,
   "id": "5cb0320f",
   "metadata": {},
   "outputs": [],
   "source": []
  },
  {
   "cell_type": "code",
   "execution_count": 3,
   "id": "72c19761",
   "metadata": {},
   "outputs": [],
   "source": [
    "# fastaファイルの読み込み\n",
    "def read_fasta(fasta:str)-> dict:\n",
    "    result_fasta ={}\n",
    "    fasta_key = None\n",
    "    seq = \"\"\n",
    "    for line in fasta:\n",
    "        if line.startwith(\">\"):\n",
    "            fasta_key = line.rstrip(\">\")\n",
    "            seq =\"\"\n",
    "        else:\n",
    "            seq = line\n",
    "            result_fasta[fasta_key] = seq\n",
    "\n",
    "    return result_fasta"
   ]
  },
  {
   "cell_type": "code",
   "execution_count": null,
   "id": "27075dad",
   "metadata": {},
   "outputs": [],
   "source": [
    "def calculate_gc_amount(seq:str):\n",
    "    seq = seq.upper()\n",
    "    count_gc = 0\n",
    "    for a in seq:\n",
    "        if a == \"G\" or a ==\"C\":\n",
    "            count_gc += 1\n",
    "    \n",
    "    return count_gc/len(seq)"
   ]
  },
  {
   "cell_type": "code",
   "execution_count": null,
   "id": "1e7301b5",
   "metadata": {},
   "outputs": [],
   "source": [
    "def select_highest_gc_content(fatsa):\n",
    "    dict_of_fasta = read_fasta(fasta)\n",
    "    "
   ]
  }
 ],
 "metadata": {
  "kernelspec": {
   "display_name": "base",
   "language": "python",
   "name": "python3"
  },
  "language_info": {
   "codemirror_mode": {
    "name": "ipython",
    "version": 3
   },
   "file_extension": ".py",
   "mimetype": "text/x-python",
   "name": "python",
   "nbconvert_exporter": "python",
   "pygments_lexer": "ipython3",
   "version": "3.11.4"
  }
 },
 "nbformat": 4,
 "nbformat_minor": 5
}
