{
 "cells": [
  {
   "cell_type": "markdown",
   "id": "f86484fe",
   "metadata": {},
   "source": [
    "# Identifying Unknown DNA Quickly"
   ]
  },
  {
   "cell_type": "code",
   "execution_count": 1,
   "id": "72c19761",
   "metadata": {},
   "outputs": [],
   "source": [
    "# fastaファイルの読み込み\n",
    "def read_fasta(fasta:str)-> dict:\n",
    "    result_fasta ={}\n",
    "    fasta_key = None\n",
    "    seq = \"\"\n",
    "    fasta = fasta.splitlines()\n",
    "    for line in fasta:\n",
    "        if line.startswith(\">\"):\n",
    "            fasta_key = line.rstrip(\">\")\n",
    "            seq =\"\"\n",
    "        else:\n",
    "            seq = line\n",
    "            result_fasta[fasta_key] = seq\n",
    "\n",
    "    return result_fasta"
   ]
  },
  {
   "cell_type": "code",
   "execution_count": 2,
   "id": "27075dad",
   "metadata": {},
   "outputs": [],
   "source": [
    "def calculate_gc_amount(seq:str):\n",
    "    seq = seq.upper()\n",
    "    count_gc = 0\n",
    "    for a in seq:\n",
    "        if a == \"G\" or a ==\"C\":\n",
    "            count_gc += 1\n",
    "    \n",
    "    return count_gc/len(seq)"
   ]
  },
  {
   "cell_type": "code",
   "execution_count": 3,
   "id": "1e7301b5",
   "metadata": {},
   "outputs": [],
   "source": [
    "def select_highest_gc_content(fasta):\n",
    "    dict_of_fasta = read_fasta(fasta)\n",
    "    gc_count =[calculate_gc_amount(seq)for seq in dict_of_fasta.values()]\n",
    "    max_gc = max(gc_count)\n",
    "    max_index = gc_count.index(max_gc)\n",
    "    max_key = list(dict_of_fasta.keys())[max_index]\n",
    "    return max_key, max_gc"
   ]
  },
  {
   "cell_type": "code",
   "execution_count": 4,
   "id": "6f57fde9",
   "metadata": {},
   "outputs": [],
   "source": [
    "sample_fasta=\"\"\">Rosalind_6404\n",
    "CCTGCGGAAGATCGGCACTAGAATAGCCAGAACCGTTTCTCTGAGGCTTCCGGCCTTCCCTCCCACTAATAATTCTGAGG\n",
    ">Rosalind_5959\n",
    "CCATCGGTAGCGCATCCTTAGTCCAATTAAGTCCCTATCCAGGCGCTCCGCCGAAGGTCTATATCCATTTGTCAGCAGACACGC\n",
    ">Rosalind_0808\n",
    "CCACCCTCGTGGTATGGCTAGGCATTCAGGAACCGGAGAACGCTTCAGACCAGCCCGGACTGGGAACCTGCGGGCAGTAGGTGGAAT\"\"\""
   ]
  },
  {
   "cell_type": "code",
   "execution_count": 5,
   "id": "02580c2b",
   "metadata": {},
   "outputs": [
    {
     "data": {
      "text/plain": [
       "('>Rosalind_0808', 0.6091954022988506)"
      ]
     },
     "execution_count": 5,
     "metadata": {},
     "output_type": "execute_result"
    }
   ],
   "source": [
    "select_highest_gc_content(sample_fasta)"
   ]
  }
 ],
 "metadata": {
  "kernelspec": {
   "display_name": "base",
   "language": "python",
   "name": "python3"
  },
  "language_info": {
   "codemirror_mode": {
    "name": "ipython",
    "version": 3
   },
   "file_extension": ".py",
   "mimetype": "text/x-python",
   "name": "python",
   "nbconvert_exporter": "python",
   "pygments_lexer": "ipython3",
   "version": "3.11.5"
  }
 },
 "nbformat": 4,
 "nbformat_minor": 5
}
