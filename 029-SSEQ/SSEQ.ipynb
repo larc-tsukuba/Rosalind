{
 "cells": [
  {
   "cell_type": "markdown",
   "id": "14692ea5",
   "metadata": {},
   "source": [
    "# 問題文\n",
    "\n",
    "## 背景\n",
    "\n",
    "DNAに生じる点突然変異は、**転移（transition）**と**転換（transversion）**の2種類に分類される。  \n",
    "転移とは、プリン塩基同士（A↔G）またはピリミジン塩基同士（C↔T）が置き換わる変異であり、つまり**塩基の骨格構造が変わらない**変異である。  \n",
    "一方、転換はプリン塩基がピリミジン塩基と、またはその逆に置き換わる変異である（図1参照）。  \n",
    "RNA変異についても、同様の定義で転移・転換を区別することができる。\n",
    "\n",
    "転換変異は塩基の化学構造をより大きく変える必要があるため、**転移変異よりも発生頻度が低い**。  \n",
    "ゲノム全体では、転移と転換の比（transition/transversion ratio）は**平均して約2**である。  \n",
    "しかし、**コード領域ではこの比がより高く（しばしば3を超える）**なる傾向がある。  \n",
    "これは、コード領域での転移変異の多くが**アミノ酸配列を変えない**ためであり、特に置換がコドンの3番目の塩基で起こる場合に顕著である（DNAコドン表を確認すると理解できる）。  \n",
    "このように、タンパク質配列に影響を与えない置換は**サイレント変異（silent substitution）**と呼ばれる。\n",
    "\n",
    "この性質を利用して、**2本のDNA配列間の転移/転換比**は、**コード領域の検出やゲノム解析における有用な指標**となる。\n",
    "\n",
    "\n",
    "## 問題\n",
    "\n",
    "同じ長さをもつ2つのDNA文字列 s₁ と s₂ に対して、  \n",
    "その**転移/転換比 R(s₁, s₂)** は、転移変異の総数を転換変異の総数で割った値として定義される。  \n",
    "ここで、塩基の対応はハミング距離のように、対応する位置で異なる塩基の組み合わせから推定される（「Counting Point Mutations」を参照）。\n",
    "\n",
    "**与えられるもの:**  \n",
    "同じ長さ（最大1 kbp）のDNA文字列 s₁ と s₂。  \n",
    "\n",
    "**返すもの:**  \n",
    "転移/転換比 R(s₁, s₂)。\n",
    "\n",
    "---\n",
    "\n",
    "## サンプルデータセット\n",
    "\n",
    "```text\n",
    ">Rosalind_0209  \n",
    "GCAACGCACAACGAAAACCCTTAGGGACTGGATTATTTCGTGATCGTTGTAGTTATTGGA  \n",
    "AGTACGGGCATCAACCCAGTT  \n",
    ">Rosalind_2200  \n",
    "TTATCTGACAAAGAAAGCCGTCAACGGCTGGATAATTTCGCGATCGTGCTGGTTACTGGC  \n",
    "GGTACGAGTGTTCCTTTGGGT  \n",
    "```\n",
    "\n",
    "## サンプル出力\n",
    "\n",
    "1.21428571429"
   ]
  },
  {
   "cell_type": "code",
   "execution_count": 1,
   "id": "64a85321",
   "metadata": {},
   "outputs": [],
   "source": [
    "def read_fasta(fasta: str) -> dict[str, str]:\n",
    "    sequences = {}\n",
    "    header = None\n",
    "    seq = []\n",
    "    fasta = fasta.splitlines()\n",
    "    for line in fasta:\n",
    "        if line.startswith('>'):\n",
    "            if header is not None:\n",
    "                sequences[header] = ''.join(seq)\n",
    "            header = line[1:]  # Remove '>'\n",
    "            seq = []\n",
    "        else:\n",
    "            seq.append(line)\n",
    "    if header is not None:\n",
    "        sequences[header] = ''.join(seq)  # Add the last sequence\n",
    "    return sequences"
   ]
  },
  {
   "cell_type": "code",
   "execution_count": 2,
   "id": "fc6eebd5",
   "metadata": {},
   "outputs": [],
   "source": [
    "fasta = \"\"\">Rosalind_14\n",
    "ACGTACGTGACG\n",
    ">Rosalind_18\n",
    "GTA\n",
    "\"\"\""
   ]
  },
  {
   "cell_type": "code",
   "execution_count": 5,
   "id": "f00b0a14",
   "metadata": {},
   "outputs": [
    {
     "name": "stdout",
     "output_type": "stream",
     "text": [
      "ACGTACGTGACG\n"
     ]
    }
   ],
   "source": [
    "S, T = read_fasta(fasta).values()\n",
    "print(S)"
   ]
  },
  {
   "cell_type": "code",
   "execution_count": 6,
   "id": "5b4c1c3a",
   "metadata": {},
   "outputs": [
    {
     "name": "stdout",
     "output_type": "stream",
     "text": [
      "3 4 5\n"
     ]
    }
   ],
   "source": [
    "ans = []\n",
    "i_T = 0\n",
    "for i, s in enumerate(S):\n",
    "    if s == T[i_T]:\n",
    "        i_T += 1\n",
    "        ans.append(i + 1)\n",
    "    if i_T == len(T):\n",
    "        break\n",
    "print(' '.join(map(str, ans)))"
   ]
  },
  {
   "cell_type": "code",
   "execution_count": 7,
   "id": "b8a493f5",
   "metadata": {},
   "outputs": [
    {
     "name": "stdout",
     "output_type": "stream",
     "text": [
      "TTCGGGTATGGGACTCGATAAAATGAGGCAGGCCGAGCATGGCCAGGTCGCCAATTCCGTCATCATAGGCTAGGCCTTGGTGGGTCTACCAACGTAGGGTCTCTAACGAATATACGAGATAAACGGGAGCAATTCCAGTCGCTGGGTTGCTATAGGTCATCATTCCCATATGCCAGGCAACATTGGTATGTACACAGATACGGTAGCATACCGACTCCCCTGGGACAAGGTTTACACGTTTTGGTGGGCCGCGATTGAAGCTGCAGGCCGAGGCAATATCATACGACAGACATCATACGAAACTTCCTGAGTGCCGATGTAGGAGATAGTTTTTAATTAGCGAACGTCACTATATCTTCGATACCACTAGGGCCATATTGACCACCCATGTATAATTGGCGGGAATGTAAGCACCGCTGTGCAAGGAAACCTATAATAAAGGTACTGTGCATACTCGCGGTGGGGGTTCTTCTCCTGGGCCTATCTGAAAATTACCTTTACTTCGCTCATCAGACACGAGACCCACGAGCACCCTGCGTGATATATGCGCCGCTCATTTGATAGGCGAACTCCGTGTTATTCTTTGAAACATTTCAGGAGTACTTCAGAAATCCCGCGCGCTCCCGGTCTTTGCCATTTAAACTCGCACGCTGTATTGTTAACTAATGGGGCGATGCGCCGGAAGCCGGAAACCGTGTGGAAGGTAGGTGGCACCTCGGGATACACCGGCAGCATAGAGTGCGTATACGTATATATAGCTGCAAATGGTGTTTAGCCAGCTAAGGCCCTTATCCTATGGGTCCTTACTAAAGTTCTGAGATAGTCATAAATGCCGGACGCAAGCCGTCAAAGGATCGTACCCCCGCCACGACGCAGGTTGTGGGTAACTTTGTGCTGGCATGCCGATGACTCTAGGAGCGGACTCGTAGGGTAGGGCATATTTGGTCTGTACGATCCAACCTGCCTC\n"
     ]
    }
   ],
   "source": [
    "from pathlib import Path\n",
    "fasta = Path(\"rosalind_sseq.txt\").read_text()\n",
    "S, T = read_fasta(fasta).values()\n",
    "print(S)"
   ]
  },
  {
   "cell_type": "code",
   "execution_count": 8,
   "id": "442c8abc",
   "metadata": {},
   "outputs": [
    {
     "name": "stdout",
     "output_type": "stream",
     "text": [
      "4 7 10 15 19 20 29 31 36 39 40 43 46 53 54 59 61 62 63 66 67 71 72 77 78 86 87 95 97 105 108 116 120 124 133 137 152 158 159 161 163 172 176 177 183 185 193 194 197 202 205 207 213 214 215 217 221 225 226\n"
     ]
    }
   ],
   "source": [
    "ans = []\n",
    "i_T = 0\n",
    "for i, s in enumerate(S):\n",
    "    if s == T[i_T]:\n",
    "        i_T += 1\n",
    "        ans.append(i + 1)\n",
    "    if i_T == len(T):\n",
    "        break\n",
    "print(' '.join(map(str, ans)))"
   ]
  },
  {
   "cell_type": "code",
   "execution_count": null,
   "id": "2d7baadf",
   "metadata": {},
   "outputs": [],
   "source": []
  }
 ],
 "metadata": {
  "kernelspec": {
   "display_name": "base",
   "language": "python",
   "name": "python3"
  },
  "language_info": {
   "codemirror_mode": {
    "name": "ipython",
    "version": 3
   },
   "file_extension": ".py",
   "mimetype": "text/x-python",
   "name": "python",
   "nbconvert_exporter": "python",
   "pygments_lexer": "ipython3",
   "version": "3.10.14"
  }
 },
 "nbformat": 4,
 "nbformat_minor": 5
}
