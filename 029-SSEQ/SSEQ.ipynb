{
 "cells": [
  {
   "cell_type": "markdown",
   "id": "14692ea5",
   "metadata": {},
   "source": [
    "# 問題文\n",
    "\n",
    "## 背景\n",
    "\n",
    "DNA中のモチーフ（短い配列）は、必ずしも連続して現れるとは限らない。  \n",
    "タンパク質をコードするDNAはイントロンによって分断されることがあるため、  \n",
    "**モチーフが途中で切れていても同じ順序で現れる場合**を認識する必要がある。  \n",
    "\n",
    "- **部分列（subsequence）**とは：  \n",
    "  文字の順序は保たれているが、必ずしも連続していない部分配列。  \n",
    "  例：`ACG` は `TATGCTAAGATC` の部分列（位置は 2, 5, 9）。\n",
    "- 同じ部分列が複数の位置の組み合わせで出現することがある。  \n",
    "  例：`ACG` は `AACCGGTT` に 8 通り存在。\n",
    "\n",
    "## 問題\n",
    "\n",
    "- **入力：**  \n",
    "  FASTA形式の2つのDNA配列 s, t（各長さ ≤ 1000 bp）\n",
    "\n",
    "- **出力：**  \n",
    "  s 内で t が部分列として現れる位置（1始まりのインデックス）。  \n",
    "  解が複数ある場合は、そのうち1つを出力すればよい。\n",
    "\n",
    "---\n",
    "\n",
    "## サンプルデータセット\n",
    "\n",
    "**入力：**\n",
    "```\n",
    ">Rosalind_14\n",
    "ACGTACGTGACG\n",
    ">Rosalind_18\n",
    "GTA\n",
    "\n",
    "**出力：**\n",
    "```\n",
    "3 8 10\n",
    "```"
   ]
  },
  {
   "cell_type": "code",
   "execution_count": 1,
   "id": "64a85321",
   "metadata": {},
   "outputs": [],
   "source": [
    "def read_fasta(fasta: str) -> dict[str, str]:\n",
    "    sequences = {}\n",
    "    header = None\n",
    "    seq = []\n",
    "    fasta = fasta.splitlines()\n",
    "    for line in fasta:\n",
    "        if line.startswith('>'):\n",
    "            if header is not None:\n",
    "                sequences[header] = ''.join(seq)\n",
    "            header = line[1:]  # Remove '>'\n",
    "            seq = []\n",
    "        else:\n",
    "            seq.append(line)\n",
    "    if header is not None:\n",
    "        sequences[header] = ''.join(seq)  # Add the last sequence\n",
    "    return sequences"
   ]
  },
  {
   "cell_type": "code",
   "execution_count": 2,
   "id": "fc6eebd5",
   "metadata": {},
   "outputs": [],
   "source": [
    "fasta = \"\"\">Rosalind_14\n",
    "ACGTACGTGACG\n",
    ">Rosalind_18\n",
    "GTA\n",
    "\"\"\""
   ]
  },
  {
   "cell_type": "code",
   "execution_count": 5,
   "id": "f00b0a14",
   "metadata": {},
   "outputs": [
    {
     "name": "stdout",
     "output_type": "stream",
     "text": [
      "ACGTACGTGACG\n"
     ]
    }
   ],
   "source": [
    "S, T = read_fasta(fasta).values()\n",
    "print(S)"
   ]
  },
  {
   "cell_type": "code",
   "execution_count": 6,
   "id": "5b4c1c3a",
   "metadata": {},
   "outputs": [
    {
     "name": "stdout",
     "output_type": "stream",
     "text": [
      "3 4 5\n"
     ]
    }
   ],
   "source": [
    "ans = []\n",
    "i_T = 0\n",
    "for i, s in enumerate(S):\n",
    "    if s == T[i_T]:\n",
    "        i_T += 1\n",
    "        ans.append(i + 1)\n",
    "    if i_T == len(T):\n",
    "        break\n",
    "print(' '.join(map(str, ans)))"
   ]
  },
  {
   "cell_type": "code",
   "execution_count": 7,
   "id": "b8a493f5",
   "metadata": {},
   "outputs": [
    {
     "name": "stdout",
     "output_type": "stream",
     "text": [
      "TTCGGGTATGGGACTCGATAAAATGAGGCAGGCCGAGCATGGCCAGGTCGCCAATTCCGTCATCATAGGCTAGGCCTTGGTGGGTCTACCAACGTAGGGTCTCTAACGAATATACGAGATAAACGGGAGCAATTCCAGTCGCTGGGTTGCTATAGGTCATCATTCCCATATGCCAGGCAACATTGGTATGTACACAGATACGGTAGCATACCGACTCCCCTGGGACAAGGTTTACACGTTTTGGTGGGCCGCGATTGAAGCTGCAGGCCGAGGCAATATCATACGACAGACATCATACGAAACTTCCTGAGTGCCGATGTAGGAGATAGTTTTTAATTAGCGAACGTCACTATATCTTCGATACCACTAGGGCCATATTGACCACCCATGTATAATTGGCGGGAATGTAAGCACCGCTGTGCAAGGAAACCTATAATAAAGGTACTGTGCATACTCGCGGTGGGGGTTCTTCTCCTGGGCCTATCTGAAAATTACCTTTACTTCGCTCATCAGACACGAGACCCACGAGCACCCTGCGTGATATATGCGCCGCTCATTTGATAGGCGAACTCCGTGTTATTCTTTGAAACATTTCAGGAGTACTTCAGAAATCCCGCGCGCTCCCGGTCTTTGCCATTTAAACTCGCACGCTGTATTGTTAACTAATGGGGCGATGCGCCGGAAGCCGGAAACCGTGTGGAAGGTAGGTGGCACCTCGGGATACACCGGCAGCATAGAGTGCGTATACGTATATATAGCTGCAAATGGTGTTTAGCCAGCTAAGGCCCTTATCCTATGGGTCCTTACTAAAGTTCTGAGATAGTCATAAATGCCGGACGCAAGCCGTCAAAGGATCGTACCCCCGCCACGACGCAGGTTGTGGGTAACTTTGTGCTGGCATGCCGATGACTCTAGGAGCGGACTCGTAGGGTAGGGCATATTTGGTCTGTACGATCCAACCTGCCTC\n"
     ]
    }
   ],
   "source": [
    "from pathlib import Path\n",
    "fasta = Path(\"rosalind_sseq.txt\").read_text()\n",
    "S, T = read_fasta(fasta).values()\n",
    "print(S)"
   ]
  },
  {
   "cell_type": "code",
   "execution_count": 8,
   "id": "442c8abc",
   "metadata": {},
   "outputs": [
    {
     "name": "stdout",
     "output_type": "stream",
     "text": [
      "4 7 10 15 19 20 29 31 36 39 40 43 46 53 54 59 61 62 63 66 67 71 72 77 78 86 87 95 97 105 108 116 120 124 133 137 152 158 159 161 163 172 176 177 183 185 193 194 197 202 205 207 213 214 215 217 221 225 226\n"
     ]
    }
   ],
   "source": [
    "ans = []\n",
    "i_T = 0\n",
    "for i, s in enumerate(S):\n",
    "    if s == T[i_T]:\n",
    "        i_T += 1\n",
    "        ans.append(i + 1)\n",
    "    if i_T == len(T):\n",
    "        break\n",
    "print(' '.join(map(str, ans)))"
   ]
  },
  {
   "cell_type": "code",
   "execution_count": null,
   "id": "2d7baadf",
   "metadata": {},
   "outputs": [],
   "source": []
  }
 ],
 "metadata": {
  "kernelspec": {
   "display_name": "base",
   "language": "python",
   "name": "python3"
  },
  "language_info": {
   "codemirror_mode": {
    "name": "ipython",
    "version": 3
   },
   "file_extension": ".py",
   "mimetype": "text/x-python",
   "name": "python",
   "nbconvert_exporter": "python",
   "pygments_lexer": "ipython3",
   "version": "3.10.14"
  }
 },
 "nbformat": 4,
 "nbformat_minor": 5
}
