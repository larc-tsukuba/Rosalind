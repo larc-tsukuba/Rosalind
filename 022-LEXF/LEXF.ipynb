{
 "cells": [
  {
   "cell_type": "markdown",
   "id": "03c468ec",
   "metadata": {},
   "source": [
    "## 問題\n",
    "\n",
    "アルファベット **A** にあらかじめ順序が決まっているとします。つまり、アルファベットを **A = (a₁, a₂, …, aₖ)** の順列として書き、  \n",
    "**a₁ < a₂ < ⋯ < aₖ** という順序を持つものとします。例えば、英語のアルファベットは **(A, B, …, Z)** です。\n",
    "\n",
    "長さ **n** が同じ2つの文字列 **s** と **t** について、辞書式順序で **s** が **t** より先に来る（**s <ₗₑₓ t** と書く）とは、  \n",
    "最初に異なる位置 **j** が現れたとき、その位置で **s[j] < t[j]** が成り立つ場合を指します（ここでの大小比較はアルファベット **A** の順序による）。\n",
    "\n",
    "---\n",
    "\n",
    "**与えられるもの:**  \n",
    "最大10個の記号からなる順序付きアルファベットと、正の整数 **n**（n ≤ 10）。\n",
    "\n",
    "**求めるもの:**  \n",
    "そのアルファベットを用いて作れる長さ **n** のすべての文字列を、辞書式順序で並べて出力せよ（記号の大小比較には与えられた順序を用いる）。\n",
    "\n",
    "---"
   ]
  },
  {
   "cell_type": "markdown",
   "id": "0fef50a4",
   "metadata": {},
   "source": [
    "## 先に順序付きアルファベットをそろえる\n",
    "この手法はproductの関数次第ではうまくいかない場合があるかもしれない"
   ]
  },
  {
   "cell_type": "markdown",
   "id": "c2a373df",
   "metadata": {},
   "source": [
    "```\n",
    "def ranking_alphabet(sentences: list[str]):\n",
    "    return sentences.sort()\n",
    "```\n",
    "はNoneを返す.元のリストを書き換えているだけなので返り値がない．  \n",
    "sorted()は非破壊的メソッド（というよりもソート関数）  "
   ]
  },
  {
   "cell_type": "code",
   "execution_count": 1,
   "id": "0e0da301",
   "metadata": {},
   "outputs": [],
   "source": [
    "from itertools import product\n",
    "def sort_input(sentences: list[str]):\n",
    "    return sorted(sentences)\n",
    "\n",
    "def get_possible_str(sorted_input:list[str],n):\n",
    "    all_permutations = product(sorted_input, repeat=n)\n",
    "    result = []\n",
    "    for p in all_permutations:\n",
    "        string = []\n",
    "        for s in p:\n",
    "            string.append(s)\n",
    "        result.append(\"\".join(string))\n",
    "    return result\n"
   ]
  },
  {
   "cell_type": "code",
   "execution_count": 2,
   "id": "44399cbf",
   "metadata": {},
   "outputs": [
    {
     "data": {
      "text/plain": [
       "['AAA',\n",
       " 'AABC',\n",
       " 'AABD',\n",
       " 'AAE',\n",
       " 'ABCA',\n",
       " 'ABCBC',\n",
       " 'ABCBD',\n",
       " 'ABCE',\n",
       " 'ABDA',\n",
       " 'ABDBC',\n",
       " 'ABDBD',\n",
       " 'ABDE',\n",
       " 'AEA',\n",
       " 'AEBC',\n",
       " 'AEBD',\n",
       " 'AEE',\n",
       " 'BCAA',\n",
       " 'BCABC',\n",
       " 'BCABD',\n",
       " 'BCAE',\n",
       " 'BCBCA',\n",
       " 'BCBCBC',\n",
       " 'BCBCBD',\n",
       " 'BCBCE',\n",
       " 'BCBDA',\n",
       " 'BCBDBC',\n",
       " 'BCBDBD',\n",
       " 'BCBDE',\n",
       " 'BCEA',\n",
       " 'BCEBC',\n",
       " 'BCEBD',\n",
       " 'BCEE',\n",
       " 'BDAA',\n",
       " 'BDABC',\n",
       " 'BDABD',\n",
       " 'BDAE',\n",
       " 'BDBCA',\n",
       " 'BDBCBC',\n",
       " 'BDBCBD',\n",
       " 'BDBCE',\n",
       " 'BDBDA',\n",
       " 'BDBDBC',\n",
       " 'BDBDBD',\n",
       " 'BDBDE',\n",
       " 'BDEA',\n",
       " 'BDEBC',\n",
       " 'BDEBD',\n",
       " 'BDEE',\n",
       " 'EAA',\n",
       " 'EABC',\n",
       " 'EABD',\n",
       " 'EAE',\n",
       " 'EBCA',\n",
       " 'EBCBC',\n",
       " 'EBCBD',\n",
       " 'EBCE',\n",
       " 'EBDA',\n",
       " 'EBDBC',\n",
       " 'EBDBD',\n",
       " 'EBDE',\n",
       " 'EEA',\n",
       " 'EEBC',\n",
       " 'EEBD',\n",
       " 'EEE']"
      ]
     },
     "execution_count": 2,
     "metadata": {},
     "output_type": "execute_result"
    }
   ],
   "source": [
    "sample_1 =['A', 'BD', 'BC', 'E']\n",
    "get_possible_str(sort_input(sample_1),3)"
   ]
  },
  {
   "cell_type": "code",
   "execution_count": 3,
   "id": "f8c8428f",
   "metadata": {},
   "outputs": [
    {
     "data": {
      "text/plain": [
       "['AA',\n",
       " 'AC',\n",
       " 'AG',\n",
       " 'AT',\n",
       " 'CA',\n",
       " 'CC',\n",
       " 'CG',\n",
       " 'CT',\n",
       " 'GA',\n",
       " 'GC',\n",
       " 'GG',\n",
       " 'GT',\n",
       " 'TA',\n",
       " 'TC',\n",
       " 'TG',\n",
       " 'TT']"
      ]
     },
     "execution_count": 3,
     "metadata": {},
     "output_type": "execute_result"
    }
   ],
   "source": [
    "sample_2 = [\"A\", \"C\", \"G\", \"T\"]\n",
    "get_possible_str(sort_input(sample_2),2)"
   ]
  },
  {
   "cell_type": "markdown",
   "id": "49b630d7",
   "metadata": {},
   "source": [
    "## 順位付きアルファベットにランクを与えてそれを並び替える\n",
    "与えられる文字列が"
   ]
  },
  {
   "cell_type": "code",
   "execution_count": null,
   "id": "cef37324",
   "metadata": {},
   "outputs": [],
   "source": [
    "from itertools import product\n",
    "\n",
    "def ranking_alphabet(user_input:list[str])->list[int]:\n",
    "    sorted_input = sorted(user_input)\n",
    "    rank_dict = {v: i for i, v in enumerate(sorted_input)}\n",
    "    return [rank_dict[v] for v in user_input]\n",
    "\n",
    "def get_possible_str(user_input:list[str],order:list[int],n):\n",
    "    all_permutations = product(zip(user_input,order), repeat=n)\n",
    "    result = {}\n",
    "    for p in all_permutations:\n",
    "        order = []\n",
    "        string = []\n",
    "        for s, o in p:\n",
    "            order.append(str(o))\n",
    "            string.append(s)\n",
    "        order = \"\".join(order)\n",
    "        string = \"\".join(string)\n",
    "        result[order] = string\n",
    "    return result\n",
    "\n",
    "def sort_result(result:dict[int,str]):\n",
    "    result = dict(sorted(result.items()))\n",
    "    for _, v in result.items():\n",
    "        print(v)"
   ]
  },
  {
   "cell_type": "code",
   "execution_count": 5,
   "id": "4c880ba2",
   "metadata": {},
   "outputs": [
    {
     "data": {
      "text/plain": [
       "{'000': 'AAA',\n",
       " '002': 'AABD',\n",
       " '001': 'AABC',\n",
       " '003': 'AAE',\n",
       " '020': 'ABDA',\n",
       " '022': 'ABDBD',\n",
       " '021': 'ABDBC',\n",
       " '023': 'ABDE',\n",
       " '010': 'ABCA',\n",
       " '012': 'ABCBD',\n",
       " '011': 'ABCBC',\n",
       " '013': 'ABCE',\n",
       " '030': 'AEA',\n",
       " '032': 'AEBD',\n",
       " '031': 'AEBC',\n",
       " '033': 'AEE',\n",
       " '200': 'BDAA',\n",
       " '202': 'BDABD',\n",
       " '201': 'BDABC',\n",
       " '203': 'BDAE',\n",
       " '220': 'BDBDA',\n",
       " '222': 'BDBDBD',\n",
       " '221': 'BDBDBC',\n",
       " '223': 'BDBDE',\n",
       " '210': 'BDBCA',\n",
       " '212': 'BDBCBD',\n",
       " '211': 'BDBCBC',\n",
       " '213': 'BDBCE',\n",
       " '230': 'BDEA',\n",
       " '232': 'BDEBD',\n",
       " '231': 'BDEBC',\n",
       " '233': 'BDEE',\n",
       " '100': 'BCAA',\n",
       " '102': 'BCABD',\n",
       " '101': 'BCABC',\n",
       " '103': 'BCAE',\n",
       " '120': 'BCBDA',\n",
       " '122': 'BCBDBD',\n",
       " '121': 'BCBDBC',\n",
       " '123': 'BCBDE',\n",
       " '110': 'BCBCA',\n",
       " '112': 'BCBCBD',\n",
       " '111': 'BCBCBC',\n",
       " '113': 'BCBCE',\n",
       " '130': 'BCEA',\n",
       " '132': 'BCEBD',\n",
       " '131': 'BCEBC',\n",
       " '133': 'BCEE',\n",
       " '300': 'EAA',\n",
       " '302': 'EABD',\n",
       " '301': 'EABC',\n",
       " '303': 'EAE',\n",
       " '320': 'EBDA',\n",
       " '322': 'EBDBD',\n",
       " '321': 'EBDBC',\n",
       " '323': 'EBDE',\n",
       " '310': 'EBCA',\n",
       " '312': 'EBCBD',\n",
       " '311': 'EBCBC',\n",
       " '313': 'EBCE',\n",
       " '330': 'EEA',\n",
       " '332': 'EEBD',\n",
       " '331': 'EEBC',\n",
       " '333': 'EEE'}"
      ]
     },
     "execution_count": 5,
     "metadata": {},
     "output_type": "execute_result"
    }
   ],
   "source": [
    "get_possible_str(sample_1,ranking_alphabet(sample_1),3)"
   ]
  },
  {
   "cell_type": "code",
   "execution_count": 6,
   "id": "516d3cc1",
   "metadata": {},
   "outputs": [
    {
     "name": "stdout",
     "output_type": "stream",
     "text": [
      "AAA\n",
      "AABC\n",
      "AABD\n",
      "AAE\n",
      "ABCA\n",
      "ABCBC\n",
      "ABCBD\n",
      "ABCE\n",
      "ABDA\n",
      "ABDBC\n",
      "ABDBD\n",
      "ABDE\n",
      "AEA\n",
      "AEBC\n",
      "AEBD\n",
      "AEE\n",
      "BCAA\n",
      "BCABC\n",
      "BCABD\n",
      "BCAE\n",
      "BCBCA\n",
      "BCBCBC\n",
      "BCBCBD\n",
      "BCBCE\n",
      "BCBDA\n",
      "BCBDBC\n",
      "BCBDBD\n",
      "BCBDE\n",
      "BCEA\n",
      "BCEBC\n",
      "BCEBD\n",
      "BCEE\n",
      "BDAA\n",
      "BDABC\n",
      "BDABD\n",
      "BDAE\n",
      "BDBCA\n",
      "BDBCBC\n",
      "BDBCBD\n",
      "BDBCE\n",
      "BDBDA\n",
      "BDBDBC\n",
      "BDBDBD\n",
      "BDBDE\n",
      "BDEA\n",
      "BDEBC\n",
      "BDEBD\n",
      "BDEE\n",
      "EAA\n",
      "EABC\n",
      "EABD\n",
      "EAE\n",
      "EBCA\n",
      "EBCBC\n",
      "EBCBD\n",
      "EBCE\n",
      "EBDA\n",
      "EBDBC\n",
      "EBDBD\n",
      "EBDE\n",
      "EEA\n",
      "EEBC\n",
      "EEBD\n",
      "EEE\n"
     ]
    }
   ],
   "source": [
    "sort_result(get_possible_str(sample_1,ranking_alphabet(sample_1),3))"
   ]
  },
  {
   "cell_type": "code",
   "execution_count": 7,
   "id": "a579facf",
   "metadata": {},
   "outputs": [
    {
     "name": "stdout",
     "output_type": "stream",
     "text": [
      "AA\n",
      "AC\n",
      "AG\n",
      "AT\n",
      "CA\n",
      "CC\n",
      "CG\n",
      "CT\n",
      "GA\n",
      "GC\n",
      "GG\n",
      "GT\n",
      "TA\n",
      "TC\n",
      "TG\n",
      "TT\n"
     ]
    }
   ],
   "source": [
    "sort_result(get_possible_str(sample_2, ranking_alphabet(sample_2), 2))"
   ]
  }
 ],
 "metadata": {
  "kernelspec": {
   "display_name": "base",
   "language": "python",
   "name": "python3"
  },
  "language_info": {
   "codemirror_mode": {
    "name": "ipython",
    "version": 3
   },
   "file_extension": ".py",
   "mimetype": "text/x-python",
   "name": "python",
   "nbconvert_exporter": "python",
   "pygments_lexer": "ipython3",
   "version": "3.13.2"
  }
 },
 "nbformat": 4,
 "nbformat_minor": 5
}
