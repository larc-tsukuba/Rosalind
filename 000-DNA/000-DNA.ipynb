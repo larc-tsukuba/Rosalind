{
 "cells": [
  {
   "cell_type": "markdown",
   "id": "5b968e80",
   "metadata": {},
   "source": [
    "# 000-DNA"
   ]
  },
  {
   "cell_type": "markdown",
   "id": "274bbb5b",
   "metadata": {},
   "source": [
    "## 分子生物学の迅速な入門\n",
    "\n",
    "すべての生物は細胞から構成されており、細胞は生命の基本単位と考えられている。真核細胞の大半に存在する「核」は、150年前に細胞活動の中心として特定された。光学顕微鏡で観察すると、核は細胞内で暗く見える部分にすぎないが、倍率を上げると「クロマチン」と呼ばれる巨大分子の混合物で満たされていることがわかる。有糸分裂中には、クロマチンの多くが凝縮し、「染色体」と呼ばれる細長いひも状構造になる（図1参照）。\n",
    "\n",
    "クロマチンに含まれる巨大分子の一種が「核酸（nucleic acids）」である。20世紀初頭の研究により、核酸は同様の構造をもつ小さな単位（モノマー）が連なった「ポリマー（高分子）」であることが明らかになった。核酸のポリマーは細長い構造をしているため、「ストランド（鎖）」と呼ばれることが多い。\n",
    "\n",
    "核酸のモノマーは「ヌクレオチド」と呼ばれ、ストランドの長さの単位（nt）として使われる。1つのヌクレオチドは以下の3つの部分から構成される：\n",
    "\n",
    "- 糖（sugar）分子  \n",
    "- 負電荷をもつリン酸（phosphate）  \n",
    "- 塩基（nucleobase、略して「base」）\n",
    "\n",
    "ポリマー化は、あるヌクレオチドの糖と次のヌクレオチドのリン酸が結合することで進行し、核酸ストランドの「糖-リン酸骨格」が形成される。重要なのは、特定の種類の核酸では糖とリン酸は常に同じで、違いは塩基の種類だけであるという点である。そのため、塩基の並び順（＝一次構造）によって核酸ストランドが定義される。\n",
    "\n",
    "例として図2はデオキシリボ核酸（DNA）のストランドを示しており、DNAでは糖は「デオキシリボース」、塩基は以下の4種類である：\n",
    "\n",
    "- アデニン（A）  \n",
    "- シトシン（C）  \n",
    "- グアニン（G）  \n",
    "- チミン（T）\n",
    "\n",
    "DNA はすべての生物（細菌を含む）に存在し、多くのウイルス（非生物とされる場合もある）にも見られる。そのため、**ゲノム（genome）**という語は「生物の染色体内に含まれる全DNAの総体」を意味する。\n"
   ]
  },
  {
   "cell_type": "markdown",
   "id": "987739c3",
   "metadata": {},
   "source": [
    "## 問題\n",
    "\n",
    "**文字列**とは、あるアルファベット（記号の集合）から選ばれた記号を順番に並べたものである。文字列の長さは、その中に含まれる記号の数で定義される。\n",
    "\n",
    "例：  \n",
    "長さ21のDNA文字列（アルファベットは 'A', 'C', 'G', 'T'）：  \n",
    "`\"ATGCTTCAGAAAGGTCTTACG\"`\n",
    "\n",
    "**与えられるもの：**  \n",
    "最大長1000 nt のDNA文字列 `s`\n",
    "\n",
    "**返すべきもの：**  \n",
    "文字列 `s` における 'A', 'C', 'G', 'T' の出現回数を、それぞれスペース区切りで並べた4つの整数として出力せよ。"
   ]
  },
  {
   "cell_type": "markdown",
   "id": "a484b363",
   "metadata": {},
   "source": [
    "## 回答例"
   ]
  },
  {
   "cell_type": "code",
   "execution_count": 5,
   "id": "857715e4",
   "metadata": {},
   "outputs": [],
   "source": [
    "# 入力DNA文字列\n",
    "s = \"AGCTTTTCATTCTGACTGCAACGGGCAATATGTCTCTGTGTGGATTAAAAAAAGAGTGTCTGATAGCAGC\""
   ]
  },
  {
   "cell_type": "markdown",
   "id": "b74a0ec1",
   "metadata": {},
   "source": [
    "## countを使う"
   ]
  },
  {
   "cell_type": "code",
   "execution_count": 6,
   "id": "001b2816",
   "metadata": {},
   "outputs": [
    {
     "name": "stdout",
     "output_type": "stream",
     "text": [
      "20 12 17 21\n"
     ]
    }
   ],
   "source": [
    "count_A = s.count('A')\n",
    "count_C = s.count('C')\n",
    "count_G = s.count('G')\n",
    "count_T = s.count('T')\n",
    "\n",
    "print(count_A, count_C, count_G, count_T)"
   ]
  },
  {
   "cell_type": "markdown",
   "id": "44e809f0",
   "metadata": {},
   "source": [
    "## 辞書を使う"
   ]
  },
  {
   "cell_type": "code",
   "execution_count": 9,
   "id": "049920cb",
   "metadata": {},
   "outputs": [
    {
     "name": "stdout",
     "output_type": "stream",
     "text": [
      "20 12 17 21\n"
     ]
    }
   ],
   "source": [
    "counts = {\"A\": 0, \"C\": 0, \"G\": 0, \"T\": 0}\n",
    "\n",
    "for base in s:\n",
    "    counts[base] += 1\n",
    "\n",
    "print(*counts.values())\n",
    "\n",
    "# `*`はアンパック演算子と呼ばれていて、リストの要素を個別の引数に展開します"
   ]
  },
  {
   "cell_type": "markdown",
   "id": "4fd63952",
   "metadata": {},
   "source": [
    "## defaultdictを使う"
   ]
  },
  {
   "cell_type": "code",
   "execution_count": 11,
   "id": "946d4418",
   "metadata": {},
   "outputs": [
    {
     "name": "stdout",
     "output_type": "stream",
     "text": [
      "20 17 12 21\n"
     ]
    }
   ],
   "source": [
    "from collections import defaultdict\n",
    "\n",
    "counts = defaultdict(int)\n",
    "\n",
    "for base in s:\n",
    "    counts[base] += 1\n",
    "\n",
    "print(*counts.values())"
   ]
  },
  {
   "cell_type": "markdown",
   "id": "b26fe3fc",
   "metadata": {},
   "source": [
    "## Counterを使う"
   ]
  },
  {
   "cell_type": "code",
   "execution_count": 10,
   "id": "c1e2553f",
   "metadata": {},
   "outputs": [
    {
     "name": "stdout",
     "output_type": "stream",
     "text": [
      "20 17 12 21\n"
     ]
    }
   ],
   "source": [
    "from collections import Counter\n",
    "\n",
    "counts = Counter(s)\n",
    "\n",
    "print(*counts.values())"
   ]
  },
  {
   "cell_type": "code",
   "execution_count": null,
   "id": "4c95194e",
   "metadata": {},
   "outputs": [],
   "source": []
  }
 ],
 "metadata": {
  "kernelspec": {
   "display_name": "env-tsumugi",
   "language": "python",
   "name": "python3"
  },
  "language_info": {
   "codemirror_mode": {
    "name": "ipython",
    "version": 3
   },
   "file_extension": ".py",
   "mimetype": "text/x-python",
   "name": "python",
   "nbconvert_exporter": "python",
   "pygments_lexer": "ipython3",
   "version": "3.12.8"
  }
 },
 "nbformat": 4,
 "nbformat_minor": 5
}
