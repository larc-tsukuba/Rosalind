{
 "cells": [
  {
   "cell_type": "markdown",
   "id": "9fb9dbdc",
   "metadata": {},
   "source": [
    "# 025-PMCH Perfect Matchings and RNA Secondary Structures\n",
    "- RNAもDNAと同じようにU-A C-Gでマッチする\n",
    "- 近くに総補的な配列が存在するとき、ヘアピンループを形成する\n",
    "- RNAの二次構造がとる組み合わせ問題。\n",
    "\n",
    "## 課題概要\n",
    "- あるグラフGを考える。\n",
    "- グラフのマッチングとは、2つの頂点を1本のエッジで結んだ部分グラフである\n",
    "  - マッチングでは１つのノードが持っていいエッジは一つまでである\n",
    "  - つまり、どの各点も２辺以上つながっていない部分グラフがマッチングである。\n",
    "- グラフGから部分グラフを取り出していったときに、それ以上取り出せる辺を増やせないマッチングを極大マッチング(complete matching)と呼ぶ\n",
    "  - つまり、極大マッチングではノードの数は必ず2nかつ、エッジの数はnである"
   ]
  }
 ],
 "metadata": {
  "language_info": {
   "name": "python"
  }
 },
 "nbformat": 4,
 "nbformat_minor": 5
}
