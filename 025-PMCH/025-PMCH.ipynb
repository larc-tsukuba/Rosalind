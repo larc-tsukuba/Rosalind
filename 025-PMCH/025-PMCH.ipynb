{
 "cells": [
  {
   "cell_type": "markdown",
   "id": "9fb9dbdc",
   "metadata": {},
   "source": [
    "# 025-PMCH Perfect Matchings and RNA Secondary Structures\n",
    "- RNAもDNAと同じようにU-A C-Gでマッチする\n",
    "- 近くに総補的な配列が存在するとき、ヘアピンループを形成する\n",
    "- RNAの二次構造がとる組み合わせ問題。\n",
    "\n",
    "## 課題コンセプト\n",
    "- あるグラフGを考える。\n",
    "- グラフのマッチングとは、2つの頂点を1本のエッジで結んだ部分グラフである\n",
    "  - マッチングでは１つのノードが持っていいエッジは一つまでである\n",
    "  - つまり、どの各点も２辺以上つながっていない部分グラフがマッチングである。\n",
    "- グラフGから部分グラフを取り出していったときに、それ以上取り出せる辺を増やせないマッチングを極大マッチング(maximal matching)と呼ぶ\n",
    "  - つまり、極大マッチングではノードの数は必ず2nかつ、エッジの数はnである\n",
    "- 一方で、極大マッチングの中でノードの数が最大のものを最大マッチングという　(muximum matching)\n",
    "  - (わかりやすいサイト)[momoyama-usagi.com/entry/math-risan17]\n",
    "- さらに、グラフのすべての頂点がマッチング中のいずれかのエッジによってつながっているものを完全マッチングと呼ぶ\n",
    "\n",
    "## 課題概要\n",
    "RNA配列 s = s1, s2, s3... を定義する。各塩基をノードととらえ、bonding graphを作成する\n",
    "- 円形に塩基を順に配置する。隣り合う塩基はadjacency edge と呼び、エッジでつなぐ\n",
    "- 架橋を形成し得る{A,U}, {C,G}の塩基は、basepair edgesでつなぐ\n",
    "- 与えられた配列から得られる極大マッチングが何通りあるか計算せよ\n",
    "- 注意！　隣接する二つの文字がbasepair edgesを作ってもよい\n",
    "\n",
    "## パラメータ\n",
    "- s = 80bp以下で、AとU、CとGは同じ回数出現する\n",
    "- 存在しうる完全マッチングの数を計算すること"
   ]
  },
  {
   "cell_type": "markdown",
   "id": "9bc774c8",
   "metadata": {},
   "source": [
    "## 解法\n",
    "- AとU, CとGは同じ数だけ出現する(そうではないと完全マッチングが存在しえない)\n",
    "- したがって、(count(A))! × (count(C))!すれば求められる"
   ]
  },
  {
   "cell_type": "code",
   "execution_count": null,
   "id": "a840e7de",
   "metadata": {},
   "outputs": [
    {
     "name": "stdout",
     "output_type": "stream",
     "text": [
      "12\n"
     ]
    }
   ],
   "source": [
    "seq = \"AGCUAGUCAU\"\n",
    "\n",
    "# math の factorial を使って階乗を計算\n",
    "from math import factorial\n",
    "\n",
    "def count_perfect_matchings(seq: str) -> int:\n",
    "    A, C = seq.count('A'), seq.count('C')\n",
    "    return factorial(A) * factorial(C)\n",
    "\n",
    "print(count_perfect_matchings(seq))"
   ]
  }
 ],
 "metadata": {
  "kernelspec": {
   "display_name": "rosalind",
   "language": "python",
   "name": "python3"
  },
  "language_info": {
   "codemirror_mode": {
    "name": "ipython",
    "version": 3
   },
   "file_extension": ".py",
   "mimetype": "text/x-python",
   "name": "python",
   "nbconvert_exporter": "python",
   "pygments_lexer": "ipython3",
   "version": "3.13.7"
  }
 },
 "nbformat": 4,
 "nbformat_minor": 5
}
