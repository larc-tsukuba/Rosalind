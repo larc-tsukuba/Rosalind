{
 "cells": [
  {
   "cell_type": "markdown",
   "id": "73fce1fe",
   "metadata": {},
   "source": [
    "# 007-PROT\n",
    "担当: 松本生成"
   ]
  },
  {
   "cell_type": "markdown",
   "id": "69025afb",
   "metadata": {},
   "source": [
    "# 目的\n",
    "- コドン表に従い、RNA配列をアミノ酸配列に翻訳する"
   ]
  },
  {
   "cell_type": "markdown",
   "id": "c80a8cb1",
   "metadata": {},
   "source": [
    "# 翻訳ルールの確認\n",
    "- tRNAはRNAの3塩基 (triplet)を認識し、対応するアミノ酸を重合させる\n",
    "- triplet-amino acidの対応はコドン表によって規定されている\n",
    "- RNAの翻訳は必ず `AUG` から始まる\n",
    "- RNAの翻訳は`UAA`, `UAG`,`UGA`のいずれかが出現すると終了する "
   ]
  },
  {
   "cell_type": "markdown",
   "id": "e2a77533",
   "metadata": {},
   "source": [
    "# Rosalindでの問題設定について\n",
    "- input配列は必ずAUGから始まる\n",
    "- input配列は必ず終止コドンで終わる"
   ]
  },
  {
   "cell_type": "markdown",
   "id": "1afdf023",
   "metadata": {},
   "source": [
    "# 解法1\n",
    "- input文字列から3文字ずつ取り出し、コドン表の辞書を使って変換する\n",
    "- 一度リストにしておいて最後に文字列として結合するほうが文字列を足していくよりも効率的らしい（？）"
   ]
  },
  {
   "cell_type": "code",
   "execution_count": 6,
   "id": "95255e0d",
   "metadata": {},
   "outputs": [
    {
     "name": "stdout",
     "output_type": "stream",
     "text": [
      "MAMAPRTEINSTRING\n"
     ]
    }
   ],
   "source": [
    "codon_dict = {\n",
    "    \"UUU\": \"F\", \"UUC\": \"F\", \"UUA\": \"L\", \"UUG\": \"L\",\n",
    "    \"CUU\": \"L\", \"CUC\": \"L\", \"CUA\": \"L\", \"CUG\": \"L\",\n",
    "    \"AUU\": \"I\", \"AUC\": \"I\", \"AUA\": \"I\", \"AUG\": \"M\",\n",
    "    \"GUU\": \"V\", \"GUC\": \"V\", \"GUA\": \"V\", \"GUG\": \"V\",\n",
    "    \"UCU\": \"S\", \"UCC\": \"S\", \"UCA\": \"S\", \"UCG\": \"S\",\n",
    "    \"CCU\": \"P\", \"CCC\": \"P\", \"CCA\": \"P\", \"CCG\": \"P\",\n",
    "    \"ACU\": \"T\", \"ACC\": \"T\", \"ACA\": \"T\", \"ACG\": \"T\",\n",
    "    \"GCU\": \"A\", \"GCC\": \"A\", \"GCA\": \"A\", \"GCG\": \"A\",\n",
    "    \"UAU\": \"Y\", \"UAC\": \"Y\", \"UAA\": \"Stop\", \"UAG\": \"Stop\",\n",
    "    \"CAU\": \"H\", \"CAC\": \"H\", \"CAA\": \"Q\", \"CAG\": \"Q\",\n",
    "    \"AAU\": \"N\", \"AAC\": \"N\", \"AAA\": \"K\", \"AAG\": \"K\",\n",
    "    \"GAU\": \"D\", \"GAC\": \"D\", \"GAA\": \"E\", \"GAG\": \"E\",\n",
    "    \"UGU\": \"C\", \"UGC\": \"C\", \"UGA\": \"Stop\", \"UGG\": \"W\",\n",
    "    \"CGU\": \"R\", \"CGC\": \"R\", \"CGA\": \"R\", \"CGG\": \"R\",\n",
    "    \"AGU\": \"S\", \"AGC\": \"S\", \"AGA\": \"R\", \"AGG\": \"R\",\n",
    "    \"GGU\": \"G\", \"GGC\": \"G\", \"GGA\": \"G\", \"GGG\": \"G\"\n",
    "}\n",
    "\n",
    "rna_sequence = 'AUGGCCAUGGCGCCCAGAACUGAGAUCAAUAGUACCCGUAUUAACGGGUGA'\n",
    "\n",
    "def translate_rna_to_protein(rna_sequence:str) :\n",
    "    protein_list = []\n",
    "    i = 0\n",
    "    for _ in range(len(rna_sequence)//3):\n",
    "        codon = rna_sequence[i:i+3]\n",
    "        if codon_dict[codon] != 'Stop':\n",
    "            protein_list.append(codon_dict[codon])\n",
    "            i += 3\n",
    "        else:break \n",
    "    protein_sequence = ''.join(protein_list)\n",
    "    return protein_sequence\n",
    "\n",
    "print(translate_rna_to_protein(rna_sequence))"
   ]
  },
  {
   "cell_type": "markdown",
   "id": "5b8218e6",
   "metadata": {},
   "source": [
    "## 問題点\n",
    "- 翻訳開始点がinputの1番目でない場合\n",
    "- コドン表に存在しないトリプレットが存在する場合にエラーを返すとよい\n",
    "- get()を使うのがベスト？"
   ]
  },
  {
   "cell_type": "markdown",
   "id": "c0b656da",
   "metadata": {},
   "source": [
    "## 別解\n",
    "- biopythonの`Seq()`を使う"
   ]
  },
  {
   "cell_type": "code",
   "execution_count": 12,
   "id": "4b7e314a",
   "metadata": {},
   "outputs": [
    {
     "data": {
      "text/plain": [
       "Seq('MAMAPRTEINSTRING*')"
      ]
     },
     "execution_count": 12,
     "metadata": {},
     "output_type": "execute_result"
    }
   ],
   "source": [
    "from Bio.Seq import Seq\n",
    "rna_sequence = Seq('AUGGCCAUGGCGCCCAGAACUGAGAUCAAUAGUACCCGUAUUAACGGGUGA')\n",
    "rna_sequence.translate()"
   ]
  }
 ],
 "metadata": {
  "kernelspec": {
   "display_name": "base",
   "language": "python",
   "name": "python3"
  },
  "language_info": {
   "codemirror_mode": {
    "name": "ipython",
    "version": 3
   },
   "file_extension": ".py",
   "mimetype": "text/x-python",
   "name": "python",
   "nbconvert_exporter": "python",
   "pygments_lexer": "ipython3",
   "version": "3.12.7"
  }
 },
 "nbformat": 4,
 "nbformat_minor": 5
}
