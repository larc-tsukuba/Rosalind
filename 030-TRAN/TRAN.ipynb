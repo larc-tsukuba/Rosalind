{
 "cells": [
  {
   "cell_type": "markdown",
   "id": "14692ea5",
   "metadata": {},
   "source": [
    "# 問題文\n",
    "\n",
    "## 背景\n",
    "\n",
    "DNAに生じる点突然変異は、**転移（transition）**と**転換（transversion）**の2種類に分類される。  \n",
    "転移とは、プリン塩基同士（A↔G）またはピリミジン塩基同士（C↔T）が置き換わる変異であり、つまり**塩基の骨格構造が変わらない**変異である。  \n",
    "一方、転換はプリン塩基がピリミジン塩基と、またはその逆に置き換わる変異である（図1参照）。  \n",
    "RNA変異についても、同様の定義で転移・転換を区別することができる。\n",
    "\n",
    "転換変異は塩基の化学構造をより大きく変える必要があるため、**転移変異よりも発生頻度が低い**。  \n",
    "ゲノム全体では、転移と転換の比（transition/transversion ratio）は**平均して約2**である。  \n",
    "しかし、**コード領域ではこの比がより高く（しばしば3を超える）**なる傾向がある。  \n",
    "これは、コード領域での転移変異の多くが**アミノ酸配列を変えない**ためであり、特に置換がコドンの3番目の塩基で起こる場合に顕著である（DNAコドン表を確認すると理解できる）。  \n",
    "このように、タンパク質配列に影響を与えない置換は**サイレント変異（silent substitution）**と呼ばれる。\n",
    "\n",
    "この性質を利用して、**2本のDNA配列間の転移/転換比**は、**コード領域の検出やゲノム解析における有用な指標**となる。\n",
    "\n",
    "\n",
    "## 問題\n",
    "\n",
    "同じ長さをもつ2つのDNA文字列 s₁ と s₂ に対して、  \n",
    "その**転移/転換比 R(s₁, s₂)** は、転移変異の総数を転換変異の総数で割った値として定義される。  \n",
    "ここで、塩基の対応はハミング距離のように、対応する位置で異なる塩基の組み合わせから推定される（「Counting Point Mutations」を参照）。\n",
    "\n",
    "**与えられるもの:**  \n",
    "同じ長さ（最大1 kbp）のDNA文字列 s₁ と s₂。  \n",
    "\n",
    "**返すもの:**  \n",
    "転移/転換比 R(s₁, s₂)。\n",
    "\n",
    "---\n",
    "\n",
    "## サンプルデータセット\n",
    "\n",
    "```text\n",
    ">Rosalind_0209  \n",
    "GCAACGCACAACGAAAACCCTTAGGGACTGGATTATTTCGTGATCGTTGTAGTTATTGGA  \n",
    "AGTACGGGCATCAACCCAGTT  \n",
    ">Rosalind_2200  \n",
    "TTATCTGACAAAGAAAGCCGTCAACGGCTGGATAATTTCGCGATCGTGCTGGTTACTGGC  \n",
    "GGTACGAGTGTTCCTTTGGGT  \n",
    "```\n",
    "\n",
    "## サンプル出力\n",
    "\n",
    "1.21428571429"
   ]
  },
  {
   "cell_type": "code",
   "execution_count": null,
   "id": "64a85321",
   "metadata": {},
   "outputs": [],
   "source": [
    "def read_fasta(fasta: str) -> dict[str, str]:\n",
    "    sequences = {}\n",
    "    header = None\n",
    "    seq = []\n",
    "    fasta = fasta.splitlines()\n",
    "    for line in fasta:\n",
    "        if line.startswith('>'):\n",
    "            if header is not None:\n",
    "                sequences[header] = ''.join(seq)\n",
    "            header = line[1:]  # Remove '>'\n",
    "            seq = []\n",
    "        else:\n",
    "            seq.append(line)\n",
    "    if header is not None:\n",
    "        sequences[header] = ''.join(seq)  # Add the last sequence\n",
    "    return sequences"
   ]
  },
  {
   "cell_type": "code",
   "execution_count": 5,
   "id": "fc6eebd5",
   "metadata": {},
   "outputs": [],
   "source": [
    "fasta = \"\"\">Rosalind_0209\n",
    "GCAACGCACAACGAAAACCCTTAGGGACTGGATTATTTCGTGATCGTTGTAGTTATTGGA\n",
    "AGTACGGGCATCAACCCAGTT\n",
    ">Rosalind_2200\n",
    "TTATCTGACAAAGAAAGCCGTCAACGGCTGGATAATTTCGCGATCGTGCTGGTTACTGGC\n",
    "GGTACGAGTGTTCCTTTGGGT\n",
    "\"\"\""
   ]
  },
  {
   "cell_type": "code",
   "execution_count": 10,
   "id": "f00b0a14",
   "metadata": {},
   "outputs": [],
   "source": [
    "S1, S2 = read_fasta(fasta).values()"
   ]
  },
  {
   "cell_type": "code",
   "execution_count": 12,
   "id": "5b4c1c3a",
   "metadata": {},
   "outputs": [
    {
     "name": "stdout",
     "output_type": "stream",
     "text": [
      "1.2142857142857142\n"
     ]
    }
   ],
   "source": [
    "transitions = 0\n",
    "transversions = 0\n",
    "for s1, s2 in zip(S1, S2):\n",
    "    if s1 == s2:\n",
    "        continue\n",
    "    if {s1, s2} == {\"A\", \"G\"} or {s1, s2} == {\"C\", \"T\"}:\n",
    "        transitions += 1\n",
    "    else:\n",
    "        transversions += 1\n",
    "\n",
    "print(transitions / transversions)"
   ]
  },
  {
   "cell_type": "code",
   "execution_count": 13,
   "id": "b8a493f5",
   "metadata": {},
   "outputs": [
    {
     "name": "stdout",
     "output_type": "stream",
     "text": [
      "GGCTTACAGCTGATAAAGGGGGAACTACAGCGGATTAAACTTGGATAACTTGCATAACCGGCAAGGCCGCCTGAAGCCAAGTTAACGTTTGCGTAATTCCTATAGATTATTTAGGCTGCATAAAACGCGTACAGTGGTAGCGGAGATGTCGCCCGTTGGGACATAACGATCGTACTTTACACTAACAGAGGTACAGCGTCGTGAATTGTTGCAACATTCGAGCCGCTCCGCACCACAGTAAACTCCTATGCCTTCTCTAAGATGTACCAGCGGGAGACTTCACGAGAAGGTGCTCCGCATGAGTGAGAGTACCGGAGCACGTATGATAGGTCGGTATGCCACCACGACTTCGTATGTGGGGTTTAAGCCGAGTTAATTACTACTCCATTCCAGTGTCATGCGATGCCCTAGGCGCCACACTGACCAGGGGATCTCAGGAGTATCGCCCTAATACTTCTTATTACTACCACCGTAAAGCCGGATTGAAAAATATGCTGGACTTCACAATGAAACTATTACCATTAATTGGAAGGGAAGATAAATTATGCCCAATAATGGGTCCGGCACTAAAGTCCGTAGTGTGCACCATACGGAGGCATCTTCATGCTCGGCTTAAATGTTCTAAATTTAAAGTTACGGGACCCGAAGGACACTAATAGTGCAGACACTGTGGTTAGCTGTTCGACTGCTGCGTCCTTTGCGGCTTGCGGAACGCCTTAGGAGTTGTTACTTGATCATGAGTTGACTCAGTATCGTGCTGAGAAGAGCTCCCTTAGACCCTGGGCTTAGGTGACAGCTTTGGTCACCTAAGCGATTCCTGGACGTCCTTCTATGTTTC\n"
     ]
    }
   ],
   "source": [
    "from pathlib import Path\n",
    "fasta = Path(\"rosalind_tran.txt\").read_text()\n",
    "S1, S2 = read_fasta(fasta).values()\n",
    "print(S1)"
   ]
  },
  {
   "cell_type": "code",
   "execution_count": 14,
   "id": "442c8abc",
   "metadata": {},
   "outputs": [
    {
     "name": "stdout",
     "output_type": "stream",
     "text": [
      "2.0681818181818183\n"
     ]
    }
   ],
   "source": [
    "transitions = 0\n",
    "transversions = 0\n",
    "for s1, s2 in zip(S1, S2):\n",
    "    if s1 == s2:\n",
    "        continue\n",
    "    if {s1, s2} == {\"A\", \"G\"} or {s1, s2} == {\"C\", \"T\"}:\n",
    "        transitions += 1\n",
    "    else:\n",
    "        transversions += 1\n",
    "\n",
    "print(transitions / transversions)"
   ]
  },
  {
   "cell_type": "code",
   "execution_count": null,
   "id": "2d7baadf",
   "metadata": {},
   "outputs": [],
   "source": []
  }
 ],
 "metadata": {
  "kernelspec": {
   "display_name": "base",
   "language": "python",
   "name": "python3"
  },
  "language_info": {
   "codemirror_mode": {
    "name": "ipython",
    "version": 3
   },
   "file_extension": ".py",
   "mimetype": "text/x-python",
   "name": "python",
   "nbconvert_exporter": "python",
   "pygments_lexer": "ipython3",
   "version": "3.10.14"
  }
 },
 "nbformat": 4,
 "nbformat_minor": 5
}
