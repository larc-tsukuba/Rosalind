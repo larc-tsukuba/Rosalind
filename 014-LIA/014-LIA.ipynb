{
 "cells": [
  {
   "cell_type": "markdown",
   "id": "a30328bc",
   "metadata": {},
   "source": [
    "# 014-LIA (Independent Alleles)\n",
    "## メンデルの第二法則　= 独立の法則\n",
    "- 二つの事象 AとBが起こる確率をそれぞれ P(A), P(B)と定義する\n",
    "- 二つの事象が独立である場合、P(A and B) = P(A) x P(B) である\n",
    "\n",
    "## Given\n",
    "- k <= 7, N <= 2^k \n",
    "- すべての個体は2の子を持つ\n",
    "- 0世代目の遺伝型はAaBb\n",
    "- すべての個体はAaBbと交配する\n",
    "\n",
    "## return\n",
    "- k 世代において、少なくとも N 個体が AaBbの遺伝型である確率\n",
    "\n",
    "## 考え方\n",
    "- 親がどの遺伝子型であったとしても、子がAaBbである確率は1/4である\n",
    "- P(AaBb) = P(Aa) x P(Bb) = 1/2 x 1/2 = 1/4\n",
    "- N 個体の選び方は (2^k)C(n) "
   ]
  },
  {
   "cell_type": "code",
   "execution_count": 2,
   "id": "49380101",
   "metadata": {},
   "outputs": [
    {
     "name": "stdout",
     "output_type": "stream",
     "text": [
      "0.684\n"
     ]
    }
   ],
   "source": [
    "import math\n",
    "\n",
    "# 余事象で求める\n",
    "def probability_of_AaBb(k, n):\n",
    "    p_AaBb = 1 / 4\n",
    "    probability = 0\n",
    "    total_number = 2**k\n",
    "    for i in range (0, n): # AaBbがn個未満の確率\n",
    "        probability +=  math.comb(total_number, i) * (p_AaBb**i) * ((1 - p_AaBb)**(total_number - i))\n",
    "    return round(1- probability,3)\n",
    "\n",
    "print(probability_of_AaBb(2,1))\n"
   ]
  }
 ],
 "metadata": {
  "kernelspec": {
   "display_name": "base",
   "language": "python",
   "name": "python3"
  },
  "language_info": {
   "codemirror_mode": {
    "name": "ipython",
    "version": 3
   },
   "file_extension": ".py",
   "mimetype": "text/x-python",
   "name": "python",
   "nbconvert_exporter": "python",
   "pygments_lexer": "ipython3",
   "version": "3.12.7"
  }
 },
 "nbformat": 4,
 "nbformat_minor": 5
}
