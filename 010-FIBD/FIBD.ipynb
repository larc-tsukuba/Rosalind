{
 "cells": [
  {
   "cell_type": "markdown",
   "id": "3e01f0d8",
   "metadata": {},
   "source": [
    "Problem\n",
    "\n",
    "Figure 4. A figure illustrating the propagation of Fibonacci's rabbits if they die after three months.\n",
    "Recall the definition of the Fibonacci numbers from “Rabbits and Recurrence Relations”, which followed the recurrence relation Fn=Fn−1+Fn−2\n",
    " and assumed that each pair of rabbits reaches maturity in one month and produces a single pair of offspring (one male, one female) each subsequent month.\n",
    "\n",
    "Our aim is to somehow modify this recurrence relation to achieve a dynamic programming solution in the case that all rabbits die out after a fixed number of months. See Figure 4 for a depiction of a rabbit tree in which rabbits live for three months (meaning that they reproduce only twice before dying).\n",
    "\n",
    "Given: Positive integers n≤100\n",
    " and m≤20\n",
    ".\n",
    "\n",
    "Return: The total number of pairs of rabbits that will remain after the n\n",
    "-th month if all rabbits live for m\n",
    " months."
   ]
  },
  {
   "cell_type": "code",
   "execution_count": 1,
   "id": "b4f958cd",
   "metadata": {},
   "outputs": [],
   "source": [
    "def fibd(months, death_age):\n",
    "    if months < 2:\n",
    "        return 1\n",
    "    dp = [[0] * (death_age) for _ in range(months)]\n",
    "    dp[0][0] = 1\n",
    "    dp[1][1] = 1\n",
    "    for i in range(2,months):\n",
    "        for j in range(death_age):\n",
    "            if j == 0:\n",
    "                dp[i][j] = sum(dp[i - 1][1:])\n",
    "            else:\n",
    "                dp[i][j] = dp[i - 1][j - 1]\n",
    "                \n",
    "    head = sum(dp[months-1])            \n",
    "    return head"
   ]
  },
  {
   "cell_type": "code",
   "execution_count": 2,
   "id": "2e60d970",
   "metadata": {},
   "outputs": [
    {
     "data": {
      "text/plain": [
       "4"
      ]
     },
     "execution_count": 2,
     "metadata": {},
     "output_type": "execute_result"
    }
   ],
   "source": [
    "fibd(6,3)"
   ]
  },
  {
   "cell_type": "code",
   "execution_count": 3,
   "id": "092d8c9e",
   "metadata": {},
   "outputs": [
    {
     "data": {
      "text/plain": [
       "353368918335207375428"
      ]
     },
     "execution_count": 3,
     "metadata": {},
     "output_type": "execute_result"
    }
   ],
   "source": [
    "fibd(100,20)"
   ]
  }
 ],
 "metadata": {
  "kernelspec": {
   "display_name": "base",
   "language": "python",
   "name": "python3"
  },
  "language_info": {
   "codemirror_mode": {
    "name": "ipython",
    "version": 3
   },
   "file_extension": ".py",
   "mimetype": "text/x-python",
   "name": "python",
   "nbconvert_exporter": "python",
   "pygments_lexer": "ipython3",
   "version": "3.13.2"
  }
 },
 "nbformat": 4,
 "nbformat_minor": 5
}
