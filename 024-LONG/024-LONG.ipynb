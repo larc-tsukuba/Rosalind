{
 "cells": [
  {
   "cell_type": "markdown",
   "id": "b5e97627",
   "metadata": {},
   "source": [
    "## 024-Genome Assembly as Shortest Superstring"
   ]
  },
  {
   "cell_type": "markdown",
   "id": "597116df",
   "metadata": {},
   "source": [
    "### ゲノムシーケンス入門\n",
    "\n",
    "同一ゲノムの複数コピーを小さな断片（リード）に分割し、それらを計算機的に再構築することでゲノム配列を復元する。\n",
    "\n",
    "「GC含量の計算」で見たように、人間のゲノム配列の約99.9%はほぼ共通している。したがって、もしある種の完全長ゲノムがいくつか解明されれば、その種のゲノム全体を解読する重要な鍵をすでに手にしていることになる。\n",
    "\n",
    "生物の完全なゲノム配列（ゲノムシーケンス）を決定することは、バイオインフォマティクスの中心的課題である。しかし、我々は依然として「顕微鏡で一塩基ごとにズームして読み取る」ような技術は持っていない。その代わりに、研究者は化学的方法を用いて、より小さなDNA断片（リード）を生成・同定することができる。\n",
    "\n",
    "大量のリードを同一ゲノムの複数コピーから得たのち、目的とするゲノムをそれらの断片から再構築する。この過程が**フラグメントアセンブリ**である（図1参照）。\n",
    "\n",
    "---\n",
    "\n",
    "### 問題設定\n",
    "\n",
    "一群の文字列が与えられたとき、それらすべてを部分文字列として含むより大きな文字列を**スーパー文字列**という。\n",
    "\n",
    "最小仮定の原則（パーシモニー）に基づけば、リード集合に対する最短スーパー文字列が候補染色体となる。\n",
    "\n",
    "**与えられるもの**  \n",
    "- 高々50本のDNA文字列（長さはほぼ等しく、最大1 kbpまで）。  \n",
    "- FASTA形式。  \n",
    "- すべて同一の線状染色体の同一鎖由来のリードと仮定。  \n",
    "\n",
    "**保証される条件**  \n",
    "- リードを「長さの半分を超えて重なる部分」でつなぎ合わせることで、全染色体を一意に復元できる。\n",
    "\n",
    "**求めるもの**  \n",
    "- 与えられたすべての文字列を含む最短スーパー文字列（すなわち復元染色体配列）。\n",
    "\n",
    "---\n",
    "\n",
    "### サンプルデータセット\n",
    "\n",
    "```\n",
    ">Rosalind_56\n",
    "ATTAGACCTG\n",
    ">Rosalind_57\n",
    "CCTGCCGGAA\n",
    ">Rosalind_58\n",
    "AGACCTGCCG\n",
    ">Rosalind_59\n",
    "GCCGGAATAC\n",
    "```\n",
    "\n",
    "### サンプル出力\n",
    "\n",
    "```\n",
    "ATTAGACCTGCCGGAATAC\n",
    "```\n",
    "\n",
    "---\n",
    "\n",
    "### 補足情報\n",
    "\n",
    "フラグメントアセンブリの目標は完全なゲノムを得ることであるが、実際には染色体のいくつかの連続領域（コンティグ）を構築するにとどまる。また、すべてのリードが同一の鎖由来であるという仮定は現実的ではなく、実際の研究では各リードがどのDNA鎖から得られたかは不明である。\n"
   ]
  },
  {
   "cell_type": "code",
   "execution_count": 6,
   "id": "fae71a72",
   "metadata": {},
   "outputs": [],
   "source": [
    "fasta = \"\"\">Rosalind_56\n",
    "ATTAGACCTG\n",
    ">Rosalind_57\n",
    "CCTGCCGGAA\n",
    ">Rosalind_58\n",
    "AGACCTGCCG\n",
    ">Rosalind_59\n",
    "GCCGGAATAC\n",
    "\"\"\""
   ]
  },
  {
   "cell_type": "code",
   "execution_count": 7,
   "id": "5ad354c2",
   "metadata": {},
   "outputs": [
    {
     "name": "stdout",
     "output_type": "stream",
     "text": [
      "['ATTAGACCTG', 'CCTGCCGGAA', 'AGACCTGCCG', 'GCCGGAATAC']\n"
     ]
    }
   ],
   "source": [
    "sequences = []\n",
    "for line in fasta.splitlines():\n",
    "    if not line.startswith(\">\"):\n",
    "        sequences.append(line.strip())\n",
    "\n",
    "print(sequences)"
   ]
  },
  {
   "cell_type": "code",
   "execution_count": null,
   "id": "5fecf0f7",
   "metadata": {},
   "outputs": [
    {
     "name": "stdout",
     "output_type": "stream",
     "text": [
      "ATTAGACCTGCCGCCGGAACCGGAATAC\n"
     ]
    }
   ],
   "source": [
    "from itertools import combinations\n",
    "from collections import deque\n",
    "\n",
    "contig = deque()\n",
    "contig.append(sequences[0])\n",
    "\n",
    "for _ in range(len(sequences) - 1):\n",
    "    max_overlap = -1\n",
    "    max_seq = \"\"\n",
    "    for seq1, seq2 in combinations(sequences, 2):\n",
    "        if seq1 in contig or seq2 in contig:\n",
    "            overlap = min(len(seq1), len(seq2)) - 1\n",
    "            while overlap > 0:\n",
    "                if seq1 in contig and seq1[-overlap:] == seq2[:overlap]:\n",
    "                    if overlap > max_overlap:\n",
    "                        max_overlap = overlap\n",
    "                        max_seq = seq2\n",
    "                elif seq2 in contig and seq2[-overlap:] == seq1[:overlap]:\n",
    "                    if overlap > max_overlap:\n",
    "                        max_overlap = overlap\n",
    "                        max_seq = seq1\n",
    "                overlap -= 1\n",
    "    if contig[0] in sequences and contig[0] == max_seq:\n",
    "        contig.appendleft(max_seq[max_overlap:])\n",
    "    else:\n",
    "        contig.append(max_seq[max_overlap:])\n",
    "    sequences.remove(max_seq)\n",
    "print(\"\".join(contig))"
   ]
  },
  {
   "cell_type": "code",
   "execution_count": null,
   "id": "a52b7768",
   "metadata": {},
   "outputs": [],
   "source": []
  },
  {
   "cell_type": "code",
   "execution_count": null,
   "id": "5ac00c78",
   "metadata": {},
   "outputs": [],
   "source": []
  },
  {
   "cell_type": "code",
   "execution_count": null,
   "id": "7062f30c",
   "metadata": {},
   "outputs": [],
   "source": []
  }
 ],
 "metadata": {
  "kernelspec": {
   "display_name": "main",
   "language": "python",
   "name": "python3"
  },
  "language_info": {
   "codemirror_mode": {
    "name": "ipython",
    "version": 3
   },
   "file_extension": ".py",
   "mimetype": "text/x-python",
   "name": "python",
   "nbconvert_exporter": "python",
   "pygments_lexer": "ipython3",
   "version": "3.12.11"
  }
 },
 "nbformat": 4,
 "nbformat_minor": 5
}
