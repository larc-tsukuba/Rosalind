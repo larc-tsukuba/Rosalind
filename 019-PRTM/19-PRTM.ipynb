{
 "cells": [
  {
   "cell_type": "markdown",
   "id": "b5e97627",
   "metadata": {},
   "source": [
    "## 019-PRTM Calculating Protein Mass\n",
    "### 課題コンセプト\n",
    "- weighted alphabet (重み付きアルファベット？)　では、各文字に正の実数のweightが紐づけられている\n",
    "- weighted alphabet の羅列を weighted string と呼ぶ\n",
    "- weighted string の weight は 各文字の weight の合計と等しい\n",
    "\n",
    "### 実際の課題\n",
    "- アミノ酸位置文字表記に対して、各アミノ酸のモノアイソトピック質量が紐づけられ、これが 今回の問題でのweightである\n",
    "- Given : 長さ1000 以上のアミノ酸配列\n",
    "- Return : string 全体の weightを足したもの\n",
    "\n",
    "### 備考\n",
    "- 各アミノ酸と、そのモノアイソトピック質量の対応表はRosalindから提供される\n",
    "\n",
    "### 解法\n",
    "- アミノ酸-質量の対応をdictにして, AA stringを順に走査し、合計を求める"
   ]
  },
  {
   "cell_type": "code",
   "execution_count": 1,
   "id": "fae71a72",
   "metadata": {},
   "outputs": [],
   "source": [
    "monoisotopic_mass_dict = {\n",
    "    \"A\": 71.03711,\n",
    "    \"C\": 103.00919,\n",
    "    \"D\": 115.02694,\n",
    "    \"E\": 129.04259,\n",
    "    \"F\": 147.06841,\n",
    "    \"G\": 57.02146,\n",
    "    \"H\": 137.05891,\n",
    "    \"I\": 113.08406,\n",
    "    \"K\": 128.09496,\n",
    "    \"L\": 113.08406,\n",
    "    \"M\": 131.04049,\n",
    "    \"N\": 114.04293,\n",
    "    \"P\": 97.05276,\n",
    "    \"Q\": 128.05858,\n",
    "    \"R\": 156.10111,\n",
    "    \"S\": 87.03203,\n",
    "    \"T\": 101.04768,\n",
    "    \"V\": 99.06841,\n",
    "    \"W\": 186.07931,\n",
    "    \"Y\": 163.06333\n",
    "}"
   ]
  },
  {
   "cell_type": "code",
   "execution_count": 2,
   "id": "0e79fa65",
   "metadata": {},
   "outputs": [],
   "source": [
    "input_aa_sequence = \"SKADYEK\""
   ]
  },
  {
   "cell_type": "code",
   "execution_count": 3,
   "id": "058a43b3",
   "metadata": {},
   "outputs": [],
   "source": [
    "def calculate_monoisotopic_mass(input_aa_sequence, monoisotopic_mass_dict) -> float:\n",
    "    total_mass = 0.0\n",
    "    for aa in input_aa_sequence:\n",
    "        total_mass += monoisotopic_mass_dict[aa]\n",
    "    return total_mass"
   ]
  },
  {
   "cell_type": "code",
   "execution_count": 6,
   "id": "e97e97b2",
   "metadata": {},
   "outputs": [
    {
     "name": "stdout",
     "output_type": "stream",
     "text": [
      "821.392\n"
     ]
    }
   ],
   "source": [
    "monoisotopic_mass = calculate_monoisotopic_mass(input_aa_sequence, monoisotopic_mass_dict)\n",
    "print(f\"{monoisotopic_mass:.3f}\")"
   ]
  }
 ],
 "metadata": {
  "kernelspec": {
   "display_name": "base",
   "language": "python",
   "name": "python3"
  },
  "language_info": {
   "codemirror_mode": {
    "name": "ipython",
    "version": 3
   },
   "file_extension": ".py",
   "mimetype": "text/x-python",
   "name": "python",
   "nbconvert_exporter": "python",
   "pygments_lexer": "ipython3",
   "version": "3.12.7"
  }
 },
 "nbformat": 4,
 "nbformat_minor": 5
}
