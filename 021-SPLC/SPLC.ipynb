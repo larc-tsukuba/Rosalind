{
 "cells": [
  {
   "cell_type": "markdown",
   "id": "58219d7c",
   "metadata": {},
   "source": [
    "## 遺伝子は不連続である\n",
    "\n",
    "**図1.** DNAの鋳型鎖上を移動しながらRNAP（RNAポリメラーゼ）がpre-mRNAを伸長させる様子。\n",
    "\n",
    "**図2.** RNAはチミンがウラシルに置き換わる点を除き、DNAのコーディング鎖と同一である。\n",
    "\n",
    "「DNAをRNAに転写する」において、DNAの一本鎖が転写の過程でRNAの一本鎖にコピーされることを述べましたが、転写がどのように行われるかについては触れていませんでした。\n",
    "\n",
    "核内では、RNAポリメラーゼ（RNAP）と呼ばれる酵素（化学反応を加速させる分子）が転写を開始します。RNAPはまず、DNAの相補的塩基を結びつけている結合を切断します。その後、DNAの2本鎖のうち1本を「鋳型鎖」として利用しながらpre-mRNA（前駆体mRNA）と呼ばれる分子を合成します。RNAPが鋳型鎖上を進み次のヌクレオチドに出会うと、成長中のRNA鎖に相補的な塩基を付加します。ただし、チミンの代わりにウラシルを用いる必要があります（図1参照）。\n",
    "\n",
    "RNAは相補性に基づいて構築されるため、もう一方のDNA鎖である「コーディング鎖」は、チミンがウラシルに置き換わる点を除き、新しく合成されたRNA鎖と同一です（図2参照。「DNAをRNAに転写する」を思い出してください）。\n",
    "\n",
    "RNAPがRNAを数ヌクレオチド合成すると、最初に解離していたDNAの相補的塩基同士が再び結合します。全体として、この過程はDNA二重らせんをジッパーで開き、すぐに閉じていくようなイメージに似ています。その間にpre-mRNA鎖が合成されます。\n",
    "\n",
    "さらに重要なのは、DNAのある部分配列全体が一気にRNAに転写され、その後コドンごとにペプチドへ翻訳されるわけではないという点です。実際には、pre-mRNAはまずイントロンとエキソンと呼ばれる小さな断片に切り分けられます。タンパク質翻訳のためにはイントロンは除去され、エキソンは順番に繋ぎ合わせられて最終的なmRNA鎖が作られます。この切断と結合の過程は「スプライシング」と呼ばれ、スプライソソームと呼ばれるRNAとタンパク質の複合体によって行われます。RNAとタンパク質からなるスプライソソームが、RNAをスプライシングしてタンパク質を作るという事実は、いわゆる「分子レベルの鶏が先か卵が先か」問題の一例であり、まだ完全には解明されていません。\n",
    "\n",
    "DNAにおいて、ある遺伝子に由来するエキソン部分を総称して、その遺伝子の「コーディング領域」と呼びます。\n",
    "\n",
    "---\n",
    "\n",
    "### 問題\n",
    "\n",
    "RNA配列中のエキソンとイントロンを特定したら、イントロンを削除し、残ったエキソンを連結して翻訳可能な新しい配列を作ればよい。\n",
    "\n",
    "**与えられるもの:**  \n",
    "DNA配列`s`（長さ最大1 kbp）と、その`s`中のイントロンに相当する部分配列の集合。すべての配列はFASTA形式で与えられる。\n",
    "\n",
    "**求めるもの:**  \n",
    "`s`のエキソン部分を転写・翻訳して得られるタンパク質配列を出力せよ。（与えられるデータセットに対しては解が一意に定まる。）\n",
    "\n",
    "---"
   ]
  },
  {
   "cell_type": "code",
   "execution_count": 1,
   "id": "64a85321",
   "metadata": {},
   "outputs": [],
   "source": [
    "def read_fasta(fasta):\n",
    "    sequences = {}\n",
    "    header = None\n",
    "    seq = []\n",
    "    fasta = fasta.splitlines()\n",
    "    for line in fasta:\n",
    "        if line.startswith('>'):\n",
    "            if header is not None:\n",
    "                sequences[header] = ''.join(seq)\n",
    "            header = line[1:]  # Remove '>'\n",
    "            seq = []\n",
    "        else:\n",
    "            seq.append(line)\n",
    "    if header is not None:\n",
    "        sequences[header] = ''.join(seq)  # Add the last sequence\n",
    "    return sequences"
   ]
  },
  {
   "cell_type": "code",
   "execution_count": 2,
   "id": "fc6eebd5",
   "metadata": {},
   "outputs": [],
   "source": [
    "codon_dict = {\n",
    "    \"UUU\": \"F\", \"UUC\": \"F\", \"UUA\": \"L\", \"UUG\": \"L\",\n",
    "    \"CUU\": \"L\", \"CUC\": \"L\", \"CUA\": \"L\", \"CUG\": \"L\",\n",
    "    \"AUU\": \"I\", \"AUC\": \"I\", \"AUA\": \"I\", \"AUG\": \"M\",\n",
    "    \"GUU\": \"V\", \"GUC\": \"V\", \"GUA\": \"V\", \"GUG\": \"V\",\n",
    "    \"UCU\": \"S\", \"UCC\": \"S\", \"UCA\": \"S\", \"UCG\": \"S\",\n",
    "    \"CCU\": \"P\", \"CCC\": \"P\", \"CCA\": \"P\", \"CCG\": \"P\",\n",
    "    \"ACU\": \"T\", \"ACC\": \"T\", \"ACA\": \"T\", \"ACG\": \"T\",\n",
    "    \"GCU\": \"A\", \"GCC\": \"A\", \"GCA\": \"A\", \"GCG\": \"A\",\n",
    "    \"UAU\": \"Y\", \"UAC\": \"Y\", \"UAA\": \"Stop\", \"UAG\": \"Stop\",\n",
    "    \"CAU\": \"H\", \"CAC\": \"H\", \"CAA\": \"Q\", \"CAG\": \"Q\",\n",
    "    \"AAU\": \"N\", \"AAC\": \"N\", \"AAA\": \"K\", \"AAG\": \"K\",\n",
    "    \"GAU\": \"D\", \"GAC\": \"D\", \"GAA\": \"E\", \"GAG\": \"E\",\n",
    "    \"UGU\": \"C\", \"UGC\": \"C\", \"UGA\": \"Stop\", \"UGG\": \"W\",\n",
    "    \"CGU\": \"R\", \"CGC\": \"R\", \"CGA\": \"R\", \"CGG\": \"R\",\n",
    "    \"AGU\": \"S\", \"AGC\": \"S\", \"AGA\": \"R\", \"AGG\": \"R\",\n",
    "    \"GGU\": \"G\", \"GGC\": \"G\", \"GGA\": \"G\", \"GGG\": \"G\"\n",
    "}"
   ]
  },
  {
   "cell_type": "code",
   "execution_count": 3,
   "id": "a144ebc7",
   "metadata": {},
   "outputs": [],
   "source": [
    "import re\n",
    "def extract_cds(seqs:list[dict])->str:\n",
    "    cds = \"\"\n",
    "    for _, seq in seqs.items():\n",
    "        if cds == \"\":\n",
    "            cds = seq\n",
    "        else:\n",
    "            intron_len = len(seq)\n",
    "            intron_start = re.search(seq,cds).start()\n",
    "            cds = cds[:intron_start]+cds[intron_start+intron_len:]\n",
    "    return cds            "
   ]
  },
  {
   "cell_type": "code",
   "execution_count": 4,
   "id": "27709623",
   "metadata": {},
   "outputs": [],
   "source": [
    "def transcribe_rna_to_aa(seq):\n",
    "    aa = []\n",
    "    # escape stop codon\n",
    "    for i in range(0, len(seq)-3, 3):\n",
    "        codon = seq[i:i+3]\n",
    "        codon = codon.replace(\"T\", \"U\")\n",
    "        aa.append(codon_dict.get(codon))\n",
    "    aa = \"\".join(aa)\n",
    "    return aa"
   ]
  },
  {
   "cell_type": "code",
   "execution_count": 5,
   "id": "1013d32b",
   "metadata": {},
   "outputs": [],
   "source": [
    "sample_seqs = \"\"\">Rosalind_10\n",
    "ATGGTCTACATAGCTGACAAACAGCACGTAGCAATCGGTCGAATCTCGAGAGGCATATGGTCACATGATCGGTCGAGCGTGTTTCAAAGTTTGCGCCTAG\n",
    ">Rosalind_12\n",
    "ATCGGTCGAA\n",
    ">Rosalind_15\n",
    "ATCGGTCGAGCGTGT\"\"\""
   ]
  },
  {
   "cell_type": "code",
   "execution_count": 6,
   "id": "9d38bd51",
   "metadata": {},
   "outputs": [
    {
     "data": {
      "text/plain": [
       "{'Rosalind_10': 'ATGGTCTACATAGCTGACAAACAGCACGTAGCAATCGGTCGAATCTCGAGAGGCATATGGTCACATGATCGGTCGAGCGTGTTTCAAAGTTTGCGCCTAG',\n",
       " 'Rosalind_12': 'ATCGGTCGAA',\n",
       " 'Rosalind_15': 'ATCGGTCGAGCGTGT'}"
      ]
     },
     "execution_count": 6,
     "metadata": {},
     "output_type": "execute_result"
    }
   ],
   "source": [
    "read_fasta(sample_seqs)"
   ]
  },
  {
   "cell_type": "code",
   "execution_count": 7,
   "id": "ae2b5a19",
   "metadata": {},
   "outputs": [
    {
     "data": {
      "text/plain": [
       "'ATGGTCTACATAGCTGACAAACAGCACGTAGCATCTCGAGAGGCATATGGTCACATGTTCAAAGTTTGCGCCTAG'"
      ]
     },
     "execution_count": 7,
     "metadata": {},
     "output_type": "execute_result"
    }
   ],
   "source": [
    "extract_cds(read_fasta(sample_seqs))"
   ]
  },
  {
   "cell_type": "code",
   "execution_count": 8,
   "id": "04263b38",
   "metadata": {},
   "outputs": [
    {
     "data": {
      "text/plain": [
       "'MVYIADKQHVASREAYGHMFKVCA'"
      ]
     },
     "execution_count": 8,
     "metadata": {},
     "output_type": "execute_result"
    }
   ],
   "source": [
    "transcribe_rna_to_aa(extract_cds(read_fasta(sample_seqs)))"
   ]
  }
 ],
 "metadata": {
  "kernelspec": {
   "display_name": "base",
   "language": "python",
   "name": "python3"
  },
  "language_info": {
   "codemirror_mode": {
    "name": "ipython",
    "version": 3
   },
   "file_extension": ".py",
   "mimetype": "text/x-python",
   "name": "python",
   "nbconvert_exporter": "python",
   "pygments_lexer": "ipython3",
   "version": "3.13.2"
  }
 },
 "nbformat": 4,
 "nbformat_minor": 5
}
