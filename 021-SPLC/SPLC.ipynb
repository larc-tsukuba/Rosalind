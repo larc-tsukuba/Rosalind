{
 "cells": [
  {
   "cell_type": "markdown",
   "id": "14692ea5",
   "metadata": {},
   "source": [
    "# 問題文\n",
    "\n",
    "## 問題\n",
    "\n",
    "RNA 文字列に含まれるエキソン（exon）とイントロン（intron）が識別されていれば、  \n",
    "**イントロン部分を削除し、エキソンを連結**することで、翻訳（タンパク質への変換）に備えた新しい RNA 配列を得ることができます。\n",
    "\n",
    "---\n",
    "\n",
    "## 与えられるもの\n",
    "\n",
    "- DNA 文字列 `s`（長さ最大 1000 塩基対）\n",
    "- `s` の部分文字列としての複数のイントロン  \n",
    "- すべての文字列は FASTA 形式で与えられます。\n",
    "\n",
    "---\n",
    "\n",
    "## 求めるもの\n",
    "\n",
    "- `s` からイントロンをすべて削除し、残りの部分（エキソン）を結合\n",
    "- それを RNA に転写（T → U）\n",
    "- さらに翻訳して得られる **タンパク質文字列**\n",
    "\n",
    "※ 与えられるデータに対しては、常に **一意の翻訳結果**が存在します。"
   ]
  },
  {
   "cell_type": "code",
   "execution_count": 6,
   "id": "64a85321",
   "metadata": {},
   "outputs": [],
   "source": [
    "def read_fasta(fasta):\n",
    "    sequences = {}\n",
    "    header = None\n",
    "    seq = []\n",
    "    fasta = fasta.splitlines()\n",
    "    for line in fasta:\n",
    "        if line.startswith('>'):\n",
    "            if header is not None:\n",
    "                sequences[header] = ''.join(seq)\n",
    "            header = line[1:]  # Remove '>'\n",
    "            seq = []\n",
    "        else:\n",
    "            seq.append(line)\n",
    "    if header is not None:\n",
    "        sequences[header] = ''.join(seq)  # Add the last sequence\n",
    "    return sequences"
   ]
  },
  {
   "cell_type": "code",
   "execution_count": 7,
   "id": "fc6eebd5",
   "metadata": {},
   "outputs": [],
   "source": [
    "codon_dict = {\n",
    "    \"UUU\": \"F\", \"UUC\": \"F\", \"UUA\": \"L\", \"UUG\": \"L\",\n",
    "    \"CUU\": \"L\", \"CUC\": \"L\", \"CUA\": \"L\", \"CUG\": \"L\",\n",
    "    \"AUU\": \"I\", \"AUC\": \"I\", \"AUA\": \"I\", \"AUG\": \"M\",\n",
    "    \"GUU\": \"V\", \"GUC\": \"V\", \"GUA\": \"V\", \"GUG\": \"V\",\n",
    "    \"UCU\": \"S\", \"UCC\": \"S\", \"UCA\": \"S\", \"UCG\": \"S\",\n",
    "    \"CCU\": \"P\", \"CCC\": \"P\", \"CCA\": \"P\", \"CCG\": \"P\",\n",
    "    \"ACU\": \"T\", \"ACC\": \"T\", \"ACA\": \"T\", \"ACG\": \"T\",\n",
    "    \"GCU\": \"A\", \"GCC\": \"A\", \"GCA\": \"A\", \"GCG\": \"A\",\n",
    "    \"UAU\": \"Y\", \"UAC\": \"Y\", \"UAA\": \"Stop\", \"UAG\": \"Stop\",\n",
    "    \"CAU\": \"H\", \"CAC\": \"H\", \"CAA\": \"Q\", \"CAG\": \"Q\",\n",
    "    \"AAU\": \"N\", \"AAC\": \"N\", \"AAA\": \"K\", \"AAG\": \"K\",\n",
    "    \"GAU\": \"D\", \"GAC\": \"D\", \"GAA\": \"E\", \"GAG\": \"E\",\n",
    "    \"UGU\": \"C\", \"UGC\": \"C\", \"UGA\": \"Stop\", \"UGG\": \"W\",\n",
    "    \"CGU\": \"R\", \"CGC\": \"R\", \"CGA\": \"R\", \"CGG\": \"R\",\n",
    "    \"AGU\": \"S\", \"AGC\": \"S\", \"AGA\": \"R\", \"AGG\": \"R\",\n",
    "    \"GGU\": \"G\", \"GGC\": \"G\", \"GGA\": \"G\", \"GGG\": \"G\"\n",
    "}"
   ]
  },
  {
   "cell_type": "code",
   "execution_count": 8,
   "id": "5b4c1c3a",
   "metadata": {},
   "outputs": [],
   "source": [
    "def remove_introns(dna, introns):\n",
    "    for intron in introns:\n",
    "        dna = dna.replace(intron, '')\n",
    "    return dna"
   ]
  },
  {
   "cell_type": "code",
   "execution_count": 9,
   "id": "5ad9a397",
   "metadata": {},
   "outputs": [],
   "source": [
    "def translate_rna_to_protein(rna):\n",
    "    protein = []\n",
    "    for codon in range(0, len(rna), 3):\n",
    "        amino_acid = codon_dict.get(rna[codon:codon+3], '')\n",
    "        if amino_acid == \"Stop\":\n",
    "            break\n",
    "        if amino_acid:\n",
    "            protein.append(amino_acid)\n",
    "    return ''.join(protein)"
   ]
  },
  {
   "cell_type": "code",
   "execution_count": 10,
   "id": "754f9c1a",
   "metadata": {},
   "outputs": [],
   "source": [
    "def main(fasta):\n",
    "    sequences = read_fasta(fasta)\n",
    "    dna = list(sequences.values())[0]\n",
    "    introns = list(sequences.values())[1:]\n",
    "    spliced_dna = remove_introns(dna, introns)\n",
    "    rna = spliced_dna.replace('T', 'U')\n",
    "    protein = translate_rna_to_protein(rna)\n",
    "    return protein"
   ]
  },
  {
   "cell_type": "code",
   "execution_count": 11,
   "id": "b8a493f5",
   "metadata": {},
   "outputs": [],
   "source": [
    "sample = \"\"\">Rosalind_10\n",
    "ATGGTCTACATAGCTGACAAACAGCACGTAGCAATCGGTCGAATCTCGAGAGGCATATGGTCACATGATCGGTCGAGCGTGTTTCAAAGTTTGCGCCTAG\n",
    ">Rosalind_12\n",
    "ATCGGTCGAA\n",
    ">Rosalind_15\n",
    "ATCGGTCGAGCGTGT\"\"\""
   ]
  },
  {
   "cell_type": "code",
   "execution_count": 12,
   "id": "442c8abc",
   "metadata": {},
   "outputs": [
    {
     "data": {
      "text/plain": [
       "'MVYIADKQHVASREAYGHMFKVCA'"
      ]
     },
     "execution_count": 12,
     "metadata": {},
     "output_type": "execute_result"
    }
   ],
   "source": [
    "main(sample)"
   ]
  }
 ],
 "metadata": {
  "kernelspec": {
   "display_name": "base",
   "language": "python",
   "name": "python3"
  },
  "language_info": {
   "codemirror_mode": {
    "name": "ipython",
    "version": 3
   },
   "file_extension": ".py",
   "mimetype": "text/x-python",
   "name": "python",
   "nbconvert_exporter": "python",
   "pygments_lexer": "ipython3",
   "version": "3.11.5"
  }
 },
 "nbformat": 4,
 "nbformat_minor": 5
}
