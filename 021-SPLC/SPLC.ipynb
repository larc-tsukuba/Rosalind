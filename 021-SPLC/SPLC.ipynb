{
 "cells": [
  {
   "cell_type": "markdown",
   "id": "14692ea5",
   "metadata": {},
   "source": [
    "# 問題文\n",
    "\n",
    "## 問題\n",
    "\n",
    "RNA 文字列に含まれるエキソン（exon）とイントロン（intron）が識別されていれば、  \n",
    "**イントロン部分を削除し、エキソンを連結**することで、翻訳（タンパク質への変換）に備えた新しい RNA 配列を得ることができます。\n",
    "\n",
    "---\n",
    "\n",
    "## 与えられるもの\n",
    "\n",
    "- DNA 文字列 `s`（長さ最大 1000 塩基対）\n",
    "- `s` の部分文字列としての複数のイントロン  \n",
    "- すべての文字列は FASTA 形式で与えられます。\n",
    "\n",
    "---\n",
    "\n",
    "## 求めるもの\n",
    "\n",
    "- `s` からイントロンをすべて削除し、残りの部分（エキソン）を結合\n",
    "- それを RNA に転写（T → U）\n",
    "- さらに翻訳して得られる **タンパク質文字列**\n",
    "\n",
    "※ 与えられるデータに対しては、常に **一意の翻訳結果**が存在します。"
   ]
  },
  {
   "cell_type": "markdown",
   "id": "745f519b",
   "metadata": {},
   "source": []
  },
  {
   "cell_type": "code",
   "execution_count": null,
   "id": "4a9bb448",
   "metadata": {
    "vscode": {
     "languageId": "plaintext"
    }
   },
   "outputs": [],
   "source": [
    "codon_dict = {\n",
    "    \"UUU\": \"F\", \"UUC\": \"F\", \"UUA\": \"L\", \"UUG\": \"L\",\n",
    "    \"CUU\": \"L\", \"CUC\": \"L\", \"CUA\": \"L\", \"CUG\": \"L\",\n",
    "    \"AUU\": \"I\", \"AUC\": \"I\", \"AUA\": \"I\", \"AUG\": \"M\",\n",
    "    \"GUU\": \"V\", \"GUC\": \"V\", \"GUA\": \"V\", \"GUG\": \"V\",\n",
    "    \"UCU\": \"S\", \"UCC\": \"S\", \"UCA\": \"S\", \"UCG\": \"S\",\n",
    "    \"CCU\": \"P\", \"CCC\": \"P\", \"CCA\": \"P\", \"CCG\": \"P\",\n",
    "    \"ACU\": \"T\", \"ACC\": \"T\", \"ACA\": \"T\", \"ACG\": \"T\",\n",
    "    \"GCU\": \"A\", \"GCC\": \"A\", \"GCA\": \"A\", \"GCG\": \"A\",\n",
    "    \"UAU\": \"Y\", \"UAC\": \"Y\", \"UAA\": \"Stop\", \"UAG\": \"Stop\",\n",
    "    \"CAU\": \"H\", \"CAC\": \"H\", \"CAA\": \"Q\", \"CAG\": \"Q\",\n",
    "    \"AAU\": \"N\", \"AAC\": \"N\", \"AAA\": \"K\", \"AAG\": \"K\",\n",
    "    \"GAU\": \"D\", \"GAC\": \"D\", \"GAA\": \"E\", \"GAG\": \"E\",\n",
    "    \"UGU\": \"C\", \"UGC\": \"C\", \"UGA\": \"Stop\", \"UGG\": \"W\",\n",
    "    \"CGU\": \"R\", \"CGC\": \"R\", \"CGA\": \"R\", \"CGG\": \"R\",\n",
    "    \"AGU\": \"S\", \"AGC\": \"S\", \"AGA\": \"R\", \"AGG\": \"R\",\n",
    "    \"GGU\": \"G\", \"GGC\": \"G\", \"GGA\": \"G\", \"GGG\": \"G\"\n",
    "}"
   ]
  }
 ],
 "metadata": {
  "language_info": {
   "name": "python"
  }
 },
 "nbformat": 4,
 "nbformat_minor": 5
}
