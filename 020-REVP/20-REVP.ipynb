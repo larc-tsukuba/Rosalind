{
 "cells": [
  {
   "cell_type": "markdown",
   "id": "fd2af524",
   "metadata": {},
   "source": [
    "## 20-REVP The Billion-Year-War\n",
    "### 課題コンセプト\n",
    "- バクテリアとウイルスの戦争は10億年前から起こっている\n",
    "- バクテリオファージの目的 : DNAをバクテリアに挿入し、増殖する\n",
    "- バクテリアの防御 : 制限酵素を持ち、viral DNAをカットする\n",
    "- 制限酵素の特徴\n",
    "    - ホモダイマーである\n",
    "    - 4-12のヌクレオチドを標的とする\n",
    "    - ウイルスDNAを挟み込むように結合する構造をとると最も切断活性が高い\n",
    "\n",
    "### 課題内容\n",
    "- reverse palindrome なDNA 配列　= 逆相補も同じ配列\n",
    "- Given : 1kb以上の 部分的な reverse palindrome を含む配列, Fasta 形式\n",
    "- Return : 4-12bp の長さの reverse palindrome 配列を探索し、そのスタート位置と長さを出力する\n",
    "\n",
    "### 解法\n",
    "- 4-12bp のsubstringを抽出し、それらの逆総補鎖と比較する\n"
   ]
  },
  {
   "cell_type": "code",
   "execution_count": 1,
   "id": "9185b724",
   "metadata": {},
   "outputs": [],
   "source": [
    "# header は今回一つしかないので、一行目だけ飛ばして後を全部結合すればok\n",
    "def load_fasta_file(fasta_path):\n",
    "    with open(fasta_path, \"r\") as fasta_file:\n",
    "        seqs = []\n",
    "        seq = \"\"\n",
    "        for line in fasta_file:\n",
    "            if line.startswith(\">\"):\n",
    "                continue\n",
    "            seq = line.strip()\n",
    "            seqs.append(seq)\n",
    "        sequence = \"\".join(seqs)\n",
    "    return sequence"
   ]
  },
  {
   "cell_type": "code",
   "execution_count": 2,
   "id": "787a16be",
   "metadata": {},
   "outputs": [],
   "source": [
    "def get_reverse_complement(seq):\n",
    "    complement_map = {\"A\": \"T\", \"T\": \"A\", \"C\": \"G\", \"G\": \"C\"}\n",
    "    rev_comp_seq = \"\".join(complement_map[base] for base in reversed(seq))\n",
    "    return rev_comp_seq"
   ]
  },
  {
   "cell_type": "code",
   "execution_count": 3,
   "id": "0892080c",
   "metadata": {},
   "outputs": [],
   "source": [
    "def find_reverse_palindrome_substrings(seq:str) -> list[tuple]:\n",
    "    reverse_palindromes = []\n",
    "    for base in range(len(seq)):\n",
    "        for subs_len in range(4,13): # 4-12bp の部分文字列を調べる\n",
    "            if base + subs_len > len(seq):\n",
    "                continue\n",
    "            seq_subs = seq[base:base+subs_len]\n",
    "            if seq_subs == get_reverse_complement(seq_subs):\n",
    "                reverse_palindromes.append((base+1, subs_len)) # Rosalindは1-based index\n",
    "    return reverse_palindromes"
   ]
  },
  {
   "cell_type": "code",
   "execution_count": 4,
   "id": "2210a87a",
   "metadata": {},
   "outputs": [
    {
     "name": "stdout",
     "output_type": "stream",
     "text": [
      "[(4, 6), (5, 4), (6, 6), (7, 4), (17, 4), (18, 4), (20, 6), (21, 4)]\n"
     ]
    }
   ],
   "source": [
    "sample_sequence = \"TCAATGCATGCGGGTCTATATGCAT\"\n",
    "reverse_palindromes = find_reverse_palindrome_substrings(sample_sequence)\n",
    "print(reverse_palindromes)"
   ]
  },
  {
   "cell_type": "code",
   "execution_count": null,
   "id": "bd5038be",
   "metadata": {},
   "outputs": [],
   "source": [
    "fasta_path = \"path/to/your/fasta/file.fasta\"\n",
    "sequence = load_fasta_file(fasta_path)\n",
    "print(f\"length of original sequence : {len(sequence)}\")\n",
    "reverse_palindromes = find_reverse_palindrome_substrings(sequence)"
   ]
  }
 ],
 "metadata": {
  "kernelspec": {
   "display_name": "base",
   "language": "python",
   "name": "python3"
  },
  "language_info": {
   "codemirror_mode": {
    "name": "ipython",
    "version": 3
   },
   "file_extension": ".py",
   "mimetype": "text/x-python",
   "name": "python",
   "nbconvert_exporter": "python",
   "pygments_lexer": "ipython3",
   "version": "3.12.7"
  }
 },
 "nbformat": 4,
 "nbformat_minor": 5
}
