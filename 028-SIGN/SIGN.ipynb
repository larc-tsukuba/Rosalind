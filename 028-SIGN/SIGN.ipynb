{
 "cells": [
  {
   "cell_type": "markdown",
   "id": "b6723c59",
   "metadata": {},
   "source": [
    "# 問題\n",
    "\n",
    "符号付き順列（signed permutation）とは、正の整数集合 {1,2,…,n} の順列を取り、それぞれの整数に正または負の符号を付けたものです。ここで、正の符号は省略して書きます。  \n",
    "\n",
    "例えば:\n",
    "\n",
    "\\[\n",
    "\\pi = (5, -3, -2, 1, 4)\n",
    "\\]\n",
    "\n",
    "は長さ 5 の符号付き順列です。\n",
    "\n",
    "---\n",
    "\n",
    "## 入力\n",
    "\n",
    "正の整数 \\( n \\leq 6 \\)\n",
    "\n",
    "---\n",
    "\n",
    "## 出力\n",
    "\n",
    "1. 長さ \\( n \\) の符号付き順列の総数  \n",
    "2. すべての符号付き順列のリスト  \n",
    "   （順列の出力順序は任意とします）\n"
   ]
  },
  {
   "cell_type": "code",
   "execution_count": 1,
   "id": "c809c5f4",
   "metadata": {},
   "outputs": [],
   "source": [
    "import math\n",
    "\n",
    "def count_paterns(n):\n",
    "    return (2 ** n) * math.factorial(n)"
   ]
  },
  {
   "cell_type": "code",
   "execution_count": 2,
   "id": "d672f784",
   "metadata": {},
   "outputs": [],
   "source": [
    "from itertools import permutations\n",
    "\n",
    "def oder_number(n):\n",
    "    num_list = list(range(1, n+1))\n",
    "    all_order = list(permutations(num_list))\n",
    "    return all_order"
   ]
  },
  {
   "cell_type": "code",
   "execution_count": 3,
   "id": "f8f56ca7",
   "metadata": {},
   "outputs": [],
   "source": [
    "from itertools import product\n",
    "def assign_sign(odered_tuple):\n",
    "    signed_list = []\n",
    "    assign_flags = list(product([False, True], repeat=len(odered_tuple)))\n",
    "    for flags in assign_flags:\n",
    "        signed_tuple = []\n",
    "        for i, flag in enumerate(flags):\n",
    "            if flag:\n",
    "                signed_tuple.append(-odered_tuple[i])\n",
    "            else:\n",
    "                signed_tuple.append(odered_tuple[i])\n",
    "        signed_list.append(tuple(signed_tuple))\n",
    "    return signed_list\n",
    "    \n"
   ]
  },
  {
   "cell_type": "code",
   "execution_count": 4,
   "id": "cfdbbf54",
   "metadata": {},
   "outputs": [],
   "source": [
    "def main(n):\n",
    "    counts = count_paterns(n)\n",
    "    orders = oder_number(n)\n",
    "    result = []\n",
    "    for order in orders:\n",
    "        signed = assign_sign(order)\n",
    "        result.extend(signed)\n",
    "    return counts, result"
   ]
  },
  {
   "cell_type": "code",
   "execution_count": 5,
   "id": "e2f77f67",
   "metadata": {},
   "outputs": [
    {
     "data": {
      "text/plain": [
       "(8, [(1, 2), (1, -2), (-1, 2), (-1, -2), (2, 1), (2, -1), (-2, 1), (-2, -1)])"
      ]
     },
     "execution_count": 5,
     "metadata": {},
     "output_type": "execute_result"
    }
   ],
   "source": [
    "main(2)"
   ]
  },
  {
   "cell_type": "code",
   "execution_count": 6,
   "id": "d5ec2e4c",
   "metadata": {},
   "outputs": [
    {
     "data": {
      "text/plain": [
       "(48,\n",
       " [(1, 2, 3),\n",
       "  (1, 2, -3),\n",
       "  (1, -2, 3),\n",
       "  (1, -2, -3),\n",
       "  (-1, 2, 3),\n",
       "  (-1, 2, -3),\n",
       "  (-1, -2, 3),\n",
       "  (-1, -2, -3),\n",
       "  (1, 3, 2),\n",
       "  (1, 3, -2),\n",
       "  (1, -3, 2),\n",
       "  (1, -3, -2),\n",
       "  (-1, 3, 2),\n",
       "  (-1, 3, -2),\n",
       "  (-1, -3, 2),\n",
       "  (-1, -3, -2),\n",
       "  (2, 1, 3),\n",
       "  (2, 1, -3),\n",
       "  (2, -1, 3),\n",
       "  (2, -1, -3),\n",
       "  (-2, 1, 3),\n",
       "  (-2, 1, -3),\n",
       "  (-2, -1, 3),\n",
       "  (-2, -1, -3),\n",
       "  (2, 3, 1),\n",
       "  (2, 3, -1),\n",
       "  (2, -3, 1),\n",
       "  (2, -3, -1),\n",
       "  (-2, 3, 1),\n",
       "  (-2, 3, -1),\n",
       "  (-2, -3, 1),\n",
       "  (-2, -3, -1),\n",
       "  (3, 1, 2),\n",
       "  (3, 1, -2),\n",
       "  (3, -1, 2),\n",
       "  (3, -1, -2),\n",
       "  (-3, 1, 2),\n",
       "  (-3, 1, -2),\n",
       "  (-3, -1, 2),\n",
       "  (-3, -1, -2),\n",
       "  (3, 2, 1),\n",
       "  (3, 2, -1),\n",
       "  (3, -2, 1),\n",
       "  (3, -2, -1),\n",
       "  (-3, 2, 1),\n",
       "  (-3, 2, -1),\n",
       "  (-3, -2, 1),\n",
       "  (-3, -2, -1)])"
      ]
     },
     "execution_count": 6,
     "metadata": {},
     "output_type": "execute_result"
    }
   ],
   "source": [
    "main(3)"
   ]
  }
 ],
 "metadata": {
  "kernelspec": {
   "display_name": "base",
   "language": "python",
   "name": "python3"
  },
  "language_info": {
   "codemirror_mode": {
    "name": "ipython",
    "version": 3
   },
   "file_extension": ".py",
   "mimetype": "text/x-python",
   "name": "python",
   "nbconvert_exporter": "python",
   "pygments_lexer": "ipython3",
   "version": "3.11.5"
  }
 },
 "nbformat": 4,
 "nbformat_minor": 5
}
