{
 "cells": [
  {
   "cell_type": "markdown",
   "id": "bf7f7404",
   "metadata": {},
   "source": [
    "# 013-LCSM"
   ]
  },
  {
   "cell_type": "markdown",
   "id": "b453058b",
   "metadata": {},
   "source": [
    "# 課題のコンセプト\n",
    "- 与えられた複数のDNA配列から、最長共通部分配列を見つける"
   ]
  },
  {
   "cell_type": "markdown",
   "id": "458174c7",
   "metadata": {},
   "source": [
    "# 課題の概要\n",
    "- input: 複数の1kb未満DNA配列, FASTA形式で与えられる\n",
    "- output: 与えられたすべての配列が持つ部分配列のうち、最長の部分配列"
   ]
  },
  {
   "cell_type": "code",
   "execution_count": null,
   "id": "7606e0ee",
   "metadata": {},
   "outputs": [],
   "source": [
    "# FASTAをリストに変換する（ヘッダーは必要ない）\n",
    "def fasta_to_list(fasta:str)->list:\n",
    "    sequences = []\n",
    "    seq=\"\"\n",
    "    with open(fasta) as f:\n",
    "        for line in f:\n",
    "            line = line.strip()\n",
    "            if seq.startswith('>'):\n",
    "               sequences.append(seq)\n",
    "               seq = \"\"\n",
    "            else:\n",
    "                seq += line\n",
    "    if seq:\n",
    "        sequences.append(seq)\n",
    "    return sequences"
   ]
  },
  {
   "cell_type": "markdown",
   "id": "f496d231",
   "metadata": {},
   "source": [
    "# 解法1 \n",
    "- 与えられた配列の中で最も短いものの中から最長共通部分配列を見つける"
   ]
  },
  {
   "cell_type": "code",
   "execution_count": null,
   "id": "2369ac8b",
   "metadata": {},
   "outputs": [],
   "source": [
    "\n",
    "def find_longest_common_substring(sequences:list)-> str:\n",
    "    shortest_seq= min(sequences, key=len)\n",
    "    longest_common_substring = \"\"\n",
    "    for length in reversed(range(1,len(shortest_seq)+1)):\n",
    "        for i in range(0,len(shortest_seq)-length+1): # range()はendpointを含まない\n",
    "            match_count = 0\n",
    "            partial_seq = shortest_seq[i:i+length]\n",
    "            for s in range(len(sequences)):\n",
    "                if partial_seq in sequences[s]:\n",
    "                    match_count += 1\n",
    "            if match_count == len(sequences):\n",
    "                longest_common_substring = partial_seq\n",
    "    return longest_common_substring          "
   ]
  },
  {
   "cell_type": "markdown",
   "id": "060b9f7a",
   "metadata": {},
   "source": [
    "# all()を活用してもっとシンプルにする"
   ]
  },
  {
   "cell_type": "code",
   "execution_count": null,
   "id": "76eae624",
   "metadata": {},
   "outputs": [],
   "source": [
    "def find_longest_common_substring(sequences:list)-> str:\n",
    "    shortest_seq= min(sequences, key=len)\n",
    "    longest_common_substring = \"\"\n",
    "    for x in reversed(range(1,len(shortest_seq)+1)):\n",
    "        for i in range(0,len(shortest_seq)-x+1):\n",
    "            partial_seq = shortest_seq[i:i+x]\n",
    "            if all(partial_seq in seq for seq in sequences):\n",
    "                partial_seq = longest_common_substring\n",
    "    return longest_common_substring       "
   ]
  },
  {
   "cell_type": "code",
   "execution_count": null,
   "id": "45601ce7",
   "metadata": {},
   "outputs": [],
   "source": []
  }
 ],
 "metadata": {
  "language_info": {
   "name": "python"
  }
 },
 "nbformat": 4,
 "nbformat_minor": 5
}
