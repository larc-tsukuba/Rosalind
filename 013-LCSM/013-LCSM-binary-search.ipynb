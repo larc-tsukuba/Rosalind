{
 "cells": [
  {
   "cell_type": "markdown",
   "id": "0",
   "metadata": {},
   "source": [
    "# 013-LCSM"
   ]
  },
  {
   "cell_type": "markdown",
   "id": "1",
   "metadata": {},
   "source": [
    "# 課題のコンセプト\n",
    "- 与えられた複数のDNA配列から、最長共通部分配列を見つける"
   ]
  },
  {
   "cell_type": "markdown",
   "id": "2",
   "metadata": {},
   "source": [
    "# 課題の概要\n",
    "- input: 複数の1kb未満DNA配列, FASTA形式で与えられる\n",
    "- output: 与えられたすべての配列が持つ部分配列のうち、最長の部分配列"
   ]
  },
  {
   "cell_type": "code",
   "execution_count": null,
   "id": "3",
   "metadata": {},
   "outputs": [],
   "source": [
    "import os\n",
    "\n",
    "os.getcwd()"
   ]
  },
  {
   "cell_type": "code",
   "execution_count": null,
   "id": "4",
   "metadata": {},
   "outputs": [],
   "source": [
    "from pathlib import Path\n",
    "\n",
    "\n",
    "def read_fasta(fasta: str | Path) -> dict[str, str]:\n",
    "    \"\"\"FASTAファイルを読み込み、{ヘッダー: 配列} の辞書を返す\"\"\"\n",
    "    fasta_dict: dict[str, str] = {}\n",
    "    header = None\n",
    "    sequences: list[str] = []\n",
    "\n",
    "    for line in Path(fasta).read_text().splitlines():\n",
    "        if line.startswith(\">\"):\n",
    "            # 既存のシーケンスを保存\n",
    "            if header is not None:\n",
    "                fasta_dict[header] = \"\".join(sequences)\n",
    "            # 新しいヘッダー開始\n",
    "            header = line[1:].strip()\n",
    "            sequences = []\n",
    "        else:\n",
    "            sequences.append(line)\n",
    "\n",
    "    fasta_dict[header] = \"\".join(sequences)\n",
    "\n",
    "    return fasta_dict"
   ]
  },
  {
   "cell_type": "markdown",
   "id": "5",
   "metadata": {},
   "source": [
    "## 二分探索を用いた解法 (idea from 松本さん)\n",
    "\n",
    "この解法では、**「共通部分文字列の長さ L」**を二分探索で求めます。  \n",
    "\n",
    "### アルゴリズムの流れ\n",
    "\n",
    "1. **候補長さ L を決める**  \n",
    "   例: L=4 のとき「全ての文字列に長さ4の共通部分文字列が存在するか？」を調べます。\n",
    "\n",
    "2. **存在判定（真偽値）**  \n",
    "   - L=4 で共通部分文字列が見つかれば、  \n",
    "     L=3, L=2, ... といった短い長さでも必ず存在します。\n",
    "   - L=4 で見つからなければ、  \n",
    "     L=5, L=6, ... のような長い長さでは絶対に存在しません。\n",
    "\n",
    "3. **二分探索**  \n",
    "   - この単調性を利用し、L を **0 〜 最短文字列の長さ** の範囲で絞り込みます。\n",
    "   - L が存在する場合は右側（長い方）を探索し、存在しない場合は左側（短い方）を探索します。\n"
   ]
  },
  {
   "cell_type": "code",
   "execution_count": null,
   "id": "6",
   "metadata": {},
   "outputs": [],
   "source": [
    "def substrings_of_len(s: str, L: int) -> set:\n",
    "    # return all substrings of length L as a set\n",
    "    if L == 0:\n",
    "        return {\"\"}\n",
    "    if L > len(s):\n",
    "        return set()\n",
    "    return {s[i : i + L] for i in range(len(s) - L + 1)}\n",
    "\n",
    "\n",
    "def longest_common_substring(sequences: list[str]) -> str:\n",
    "    # use the shortest string as the base to reduce candidates\n",
    "    base = min(sequences, key=len)\n",
    "    others = [s for s in sequences if s is not base]\n",
    "\n",
    "    lo, hi = 0, len(base)  # search L in [lo..hi]\n",
    "    while lo <= hi:\n",
    "        mid = (lo + hi) // 2\n",
    "        candidates = substrings_of_len(base, mid)\n",
    "\n",
    "        for s in others:\n",
    "            candidates &= substrings_of_len(s, mid)\n",
    "\n",
    "        if candidates:\n",
    "            # length mid exists; keep any candidate and try longer\n",
    "            shared_motifs = candidates\n",
    "            lo = mid + 1\n",
    "        else:\n",
    "            hi = mid - 1\n",
    "    return shared_motifs"
   ]
  },
  {
   "cell_type": "code",
   "execution_count": null,
   "id": "7",
   "metadata": {},
   "outputs": [],
   "source": [
    "fasta_file = \"example.fasta\"\n",
    "sequences = [seq for seq in read_fasta(fasta_file).values() if seq]\n",
    "print(sequences)"
   ]
  },
  {
   "cell_type": "code",
   "execution_count": null,
   "id": "8",
   "metadata": {},
   "outputs": [],
   "source": [
    "motifs = longest_common_substring(sequences)\n",
    "print(next(iter(motifs)))"
   ]
  },
  {
   "cell_type": "code",
   "execution_count": null,
   "id": "9",
   "metadata": {},
   "outputs": [],
   "source": [
    "fasta_file = \"rosalind_lcsm.txt\"\n",
    "sequences = [seq for seq in read_fasta(fasta_file).values() if seq]\n",
    "motifs = longest_common_substring(sequences)\n",
    "print(next(iter(motifs)))"
   ]
  },
  {
   "cell_type": "code",
   "execution_count": null,
   "id": "10",
   "metadata": {},
   "outputs": [],
   "source": []
  },
  {
   "cell_type": "code",
   "execution_count": null,
   "id": "11",
   "metadata": {},
   "outputs": [],
   "source": []
  }
 ],
 "metadata": {
  "kernelspec": {
   "display_name": "bioinfo",
   "language": "python",
   "name": "python3"
  },
  "language_info": {
   "codemirror_mode": {
    "name": "ipython",
    "version": 3
   },
   "file_extension": ".py",
   "mimetype": "text/x-python",
   "name": "python",
   "nbconvert_exporter": "python",
   "pygments_lexer": "ipython3",
   "version": "3.12.8"
  }
 },
 "nbformat": 4,
 "nbformat_minor": 5
}
