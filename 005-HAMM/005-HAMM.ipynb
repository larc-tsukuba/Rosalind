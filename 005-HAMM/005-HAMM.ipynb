{
 "cells": [
  {
   "cell_type": "markdown",
   "id": "5b968e80",
   "metadata": {},
   "source": [
    "# 005-HAMM\n",
    "\n",
    "担当：久野 朗広"
   ]
  },
  {
   "cell_type": "markdown",
   "id": "274bbb5b",
   "metadata": {},
   "source": [
    "## 間違いの連続としての進化\n",
    "\n",
    "**図1.** DNAにおける点突然変異によって、C-G塩基対がA-T塩基対に変化する様子。\n",
    "\n",
    "**突然変異**とは、核酸、特にDNAの生成や複製の過程で起こる「誤り」のことです。核酸は細胞の機能にとって極めて重要なため、突然変異はしばしば細胞全体に波及効果をもたらします。技術的には誤りである突然変異ですが、ごくまれに細胞に有利な特性を与えることもあります。実際、進化における大規模な変化は、何世代にもわたる微細な有益な突然変異の蓄積によるものと考えられています。\n",
    "\n",
    "最も単純で一般的な突然変異のタイプは**点突然変異**であり、これは1つのヌクレオチド位置で、1つの塩基が別の塩基に置き換わるものです。DNAの場合、点突然変異が起こると、それに対応する相補的塩基も変わる必要があります（図1参照）。\n",
    "\n",
    "異なる生物種または個体から得られた2本のDNA鎖が**相同（ホモログ）**であるとは、これらが最近の共通祖先を持つことを意味します。したがって、相同な2本のDNA鎖の間で異なる塩基の数を数えることにより、それらの間の進化的経路で起こり得た最小の点突然変異の数を推定することができます。\n",
    "\n",
    "我々が2つの種を隔てる（点）突然変異の数を最小化しようとするのは、生物学における**簡潔性（パーシモニー）の原理**によるものです。この原理は、「進化の歴史はできる限り単純に説明されるべきである」と要求します。\n"
   ]
  },
  {
   "cell_type": "markdown",
   "id": "987739c3",
   "metadata": {},
   "source": [
    "# 🧬 問題：ハミング距離の計算\n",
    "\n",
    "## 問題概要\n",
    "\n",
    "**図2.** 以下の2つの文字列におけるハミング距離は 7 です。異なっている文字は赤で示されます。\n",
    "\n",
    "同じ長さを持つ2つの文字列 `s` と `t` が与えられたとき、**ハミング距離** `dH(s, t)` とは、文字列の対応する位置において異なる記号の数を指します。  \n",
    "たとえば、以下の例では7箇所で異なっており、ハミング距離は 7 です。\n",
    "\n",
    "---\n",
    "\n",
    "## 入力\n",
    "\n",
    "- 長さが等しい2つのDNA文字列 `s` と `t` が与えられます。\n",
    "- 各文字列の長さは **1,000文字以下** です。\n",
    "\n",
    "---\n",
    "\n",
    "## 出力\n",
    "\n",
    "- `s` と `t` の**ハミング距離** `dH(s, t)` を整数として出力してください。\n"
   ]
  },
  {
   "cell_type": "markdown",
   "id": "a484b363",
   "metadata": {},
   "source": [
    "# 解答例"
   ]
  },
  {
   "cell_type": "code",
   "execution_count": 1,
   "id": "857715e4",
   "metadata": {},
   "outputs": [
    {
     "name": "stdout",
     "output_type": "stream",
     "text": [
      "7\n"
     ]
    }
   ],
   "source": [
    "s = \"GAGCCTACTAACGGGAT\"\n",
    "t = \"CATCGTAATGACGGCCT\"\n",
    "\n",
    "def hamming_distance(s: str, t: str) -> int:\n",
    "    return sum(1 for a, b in zip(s, t) if a != b)\n",
    "\n",
    "# 出力\n",
    "print(hamming_distance(s, t))  # 結果: 7\n"
   ]
  },
  {
   "cell_type": "code",
   "execution_count": null,
   "id": "4c95194e",
   "metadata": {},
   "outputs": [],
   "source": []
  }
 ],
 "metadata": {
  "kernelspec": {
   "display_name": "base",
   "language": "python",
   "name": "python3"
  },
  "language_info": {
   "codemirror_mode": {
    "name": "ipython",
    "version": 3
   },
   "file_extension": ".py",
   "mimetype": "text/x-python",
   "name": "python",
   "nbconvert_exporter": "python",
   "pygments_lexer": "ipython3",
   "version": "3.10.14"
  }
 },
 "nbformat": 4,
 "nbformat_minor": 5
}
