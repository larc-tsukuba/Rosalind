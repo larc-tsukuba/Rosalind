{
 "cells": [
  {
   "cell_type": "markdown",
   "id": "4ea3f03b",
   "metadata": {},
   "source": [
    "Problem\n",
    "A matrix is a rectangular table of values divided into rows and columns. An m×n\n",
    " matrix has m\n",
    " rows and n\n",
    " columns. Given a matrix A\n",
    ", we write Ai,j\n",
    " to indicate the value found at the intersection of row i\n",
    " and column j\n",
    ".\n",
    "\n",
    "Say that we have a collection of DNA strings, all having the same length n\n",
    ". Their profile matrix is a 4×n\n",
    " matrix P\n",
    " in which P1,j\n",
    " represents the number of times that 'A' occurs in the j\n",
    "th position of one of the strings, P2,j\n",
    " represents the number of times that C occurs in the j\n",
    "th position, and so on (see below).\n",
    "\n",
    "A consensus string c\n",
    " is a string of length n\n",
    " formed from our collection by taking the most common symbol at each position; the j\n",
    "th symbol of c\n",
    " therefore corresponds to the symbol having the maximum value in the j\n",
    "-th column of the profile matrix. Of course, there may be more than one most common symbol, leading to multiple possible consensus strings."
   ]
  },
  {
   "cell_type": "markdown",
   "id": "b82246d8",
   "metadata": {},
   "source": [
    "Given: A collection of at most 10 DNA strings of equal length (at most 1 kbp) in FASTA format.\n",
    "\n",
    "Return: A consensus string and profile matrix for the collection. (If several possible consensus strings exist, then you may return any one of them.)"
   ]
  },
  {
   "cell_type": "code",
   "execution_count": 1,
   "id": "43e9160d",
   "metadata": {},
   "outputs": [],
   "source": [
    "def read_fasta(fasta):\n",
    "    sequences = {}\n",
    "    header = None\n",
    "    seq = []\n",
    "    fasta = fasta.splitlines()\n",
    "    for line in fasta:\n",
    "        if line.startswith('>'):\n",
    "            if header is not None:\n",
    "                sequences[header] = ''.join(seq)\n",
    "            header = line[1:]  # Remove '>'\n",
    "            seq = []\n",
    "        else:\n",
    "            seq.append(line)\n",
    "    if header is not None:\n",
    "        sequences[header] = ''.join(seq)  # Add the last sequence\n",
    "    return sequences"
   ]
  },
  {
   "cell_type": "code",
   "execution_count": 2,
   "id": "c8565ec7",
   "metadata": {},
   "outputs": [],
   "source": [
    "def create_profile(seq_dict):\n",
    "    result_matrix = [[0] * 4 for _ in list(seq_dict.values())[0]]\n",
    "    matrix_dict = {'A': 0, 'C': 1, 'G': 2, 'T': 3}\n",
    "    for seq in seq_dict.values():\n",
    "        for i, base in enumerate(seq):\n",
    "            result_matrix[i][matrix_dict[base]] += 1\n",
    "    t_result_matrix = list(map(list, zip(*result_matrix))) \n",
    "    max_index = []  \n",
    "    for counts in result_matrix:\n",
    "        max_index.append(counts.index(max(counts)))\n",
    "    result_seq = ''.join([list(matrix_dict.keys())[i] for i in max_index])\n",
    "    return result_seq, t_result_matrix"
   ]
  },
  {
   "cell_type": "code",
   "execution_count": 3,
   "id": "bd1b57a3",
   "metadata": {},
   "outputs": [],
   "source": [
    "import numpy as np\n",
    "\n",
    "def create_profile(seq_dict):\n",
    "    result_matrix = np.array([[0] * 4 for _ in list(seq_dict.values())[0]])\n",
    "    matrix_dict = {'A': 0, 'C': 1, 'G': 2, 'T': 3}\n",
    "    for seq in seq_dict.values():\n",
    "        for i, base in enumerate(seq):\n",
    "            result_matrix[i][matrix_dict[base]] += 1\n",
    "\n",
    "    max_index = []  \n",
    "    for counts in result_matrix:\n",
    "        max_index.append(np.argmax(counts))\n",
    "    result_seq = ''.join([list(matrix_dict.keys())[i] for i in max_index])\n",
    "    return result_seq, result_matrix.T"
   ]
  },
  {
   "cell_type": "code",
   "execution_count": 4,
   "id": "21c4b69f",
   "metadata": {},
   "outputs": [],
   "source": [
    "sample_fasta = \"\"\">Rosalind_1\n",
    "ATCCAGCT\n",
    ">Rosalind_2\n",
    "GGGCAACT\n",
    ">Rosalind_3\n",
    "ATGGATCT\n",
    ">Rosalind_4\n",
    "AAGCAACC\n",
    ">Rosalind_5\n",
    "TTGGAACT\n",
    ">Rosalind_6\n",
    "ATGCCATT\n",
    ">Rosalind_7\n",
    "ATGGCACT\"\"\""
   ]
  },
  {
   "cell_type": "code",
   "execution_count": 5,
   "id": "f82dd625",
   "metadata": {},
   "outputs": [
    {
     "data": {
      "text/plain": [
       "('ATGCAACT',\n",
       " array([[5, 1, 0, 0, 5, 5, 0, 0],\n",
       "        [0, 0, 1, 4, 2, 0, 6, 1],\n",
       "        [1, 1, 6, 3, 0, 1, 0, 0],\n",
       "        [1, 5, 0, 0, 0, 1, 1, 6]]))"
      ]
     },
     "execution_count": 5,
     "metadata": {},
     "output_type": "execute_result"
    }
   ],
   "source": [
    "create_profile(read_fasta(sample_fasta))"
   ]
  },
  {
   "cell_type": "code",
   "execution_count": null,
   "id": "9ab049bb",
   "metadata": {},
   "outputs": [],
   "source": []
  }
 ],
 "metadata": {
  "kernelspec": {
   "display_name": "base",
   "language": "python",
   "name": "python3"
  },
  "language_info": {
   "codemirror_mode": {
    "name": "ipython",
    "version": 3
   },
   "file_extension": ".py",
   "mimetype": "text/x-python",
   "name": "python",
   "nbconvert_exporter": "python",
   "pygments_lexer": "ipython3",
   "version": "3.13.2"
  }
 },
 "nbformat": 4,
 "nbformat_minor": 5
}
