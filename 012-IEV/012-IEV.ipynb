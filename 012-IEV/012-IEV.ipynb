{
 "cells": [
  {
   "cell_type": "markdown",
   "id": "5b968e80",
   "metadata": {},
   "source": [
    "# 012-IEV\n",
    "\n",
    "担当: 久野 朗広"
   ]
  },
  {
   "cell_type": "markdown",
   "id": "274bbb5b",
   "metadata": {},
   "source": [
    "# 平均の必要性\n",
    "\n",
    "平均はあらゆる場面で発生する。スポーツでは、チームが勝つと予想される平均試合数を予測したい。ギャンブルでは、ブラックジャックで被る平均損失を予測したい。ビジネスでは、企業は次の四半期の平均売上高を計算したいと考える。\n",
    "\n",
    "分子生物学も平均の必要性から免れない。研究者は、将来の感染症流行における薬剤耐性病原菌の予想数を予測し、ゲノム内で特定のモチーフに一致する箇所の予想数を推定し、進化する集団における対立遺伝子の分布を研究する必要がある。この問題では、3番目の課題について議論を開始するが、まず、ランダムな過程の平均を取ることが何を意味するのかをより良く理解する必要がある。\n",
    "\n",
    "## 問題\n",
    "\n",
    "1から$n$までの整数値を取る確率変数$X$について、その期待値は$E(X) = \\sum_{k=1}^{n} k \\times \\text{Pr}(X=k)$である。期待値は、多数の試行にわたる確率変数の長期的な平均を求める方法を提供する。\n",
    "\n",
    "動機付けの例として、$X$を6面サイコロの出る目とする。多数の試行を繰り返すと、サイコロの平均は3.5になると予想される（3.5を出すことは不可能であるにもかかわらず）。期待値の公式は、$E(X) = \\sum_{k=1}^{6} k \\times \\text{Pr}(X=k) = 3.5$であることを確認する。\n",
    "\n",
    "より一般的に、等間隔の複数の結果のそれぞれが同じ確率を持つ確率変数は、一様確率変数と呼ばれる（サイコロの例では、この「等間隔」は1に等しい）。サイコロの例を一般化すると、$X$が最小値$a$、最大値$b$を持つ一様確率変数である場合、$E(X) = \\frac{a+b}{2}$となることがわかる。サイコロの例で、$Y$が2回目のサイコロの出目に関連する確率変数である場合、$E(X+Y) = 7$となることも確認したいかもしれない。\n",
    "\n",
    "## 入力\n",
    "\n",
    "* 20,000を超えない6つの非負整数。これらの整数は、与えられた要因に関する各遺伝子型ペアリングを持つ集団内のカップルの数に対応する。順番に、与えられた6つの整数は、以下の遺伝子型を持つカップルの数を表す：\n",
    "\n",
    "1. AA-AA\n",
    "2. AA-Aa\n",
    "3. AA-aa\n",
    "4. Aa-Aa\n",
    "5. Aa-aa\n",
    "6. aa-aa\n",
    "\n",
    "## 出力\n",
    "\n",
    "* すべてのカップルが**ちょうど2人の子孫を持つ**という仮定の下で、次世代で優性表現型を示す子孫の期待値。\n"
   ]
  },
  {
   "cell_type": "markdown",
   "id": "a484b363",
   "metadata": {},
   "source": [
    "# 解答例"
   ]
  },
  {
   "cell_type": "markdown",
   "id": "dea8dea1",
   "metadata": {},
   "source": [
    "各遺伝子型ペアリングから生まれる子孫1人あたりの優性表現型の確率は以下のとおりです：\n",
    "\n",
    "1. AA-AA: 1\n",
    "2. AA-Aa: 1\n",
    "3. AA-aa: 1\n",
    "4. Aa-Aa: 3/4 = 0.75\n",
    "5. Aa-aa: 1/2 = 0.5\n",
    "6. aa-aa: 0"
   ]
  },
  {
   "cell_type": "code",
   "execution_count": 1,
   "id": "0f65f9dc",
   "metadata": {},
   "outputs": [
    {
     "name": "stdout",
     "output_type": "stream",
     "text": [
      "Current working directory: /mnt/g/Rosalind\n"
     ]
    }
   ],
   "source": [
    "from pathlib import Path\n",
    "import sys\n",
    "import os\n",
    "P = print\n",
    "\n",
    "# 作業ディレクトリを本リポジトリのルートに設定\n",
    "while not Path(os.getcwd(), \"LICENSE\").exists():\n",
    "    os.chdir(\"..\")\n",
    "    if os.getcwd() == \"/\":\n",
    "        P(\"Error: Could not find LICENSE file in parent directories.\")\n",
    "        sys.exit(1)\n",
    "P(\"Current working directory:\", os.getcwd())"
   ]
  },
  {
   "cell_type": "code",
   "execution_count": 11,
   "id": "857715e4",
   "metadata": {},
   "outputs": [],
   "source": [
    "S = \"1 0 0 1 0 1\"\n",
    "S = [int(s) for s in S.split()]"
   ]
  },
  {
   "cell_type": "code",
   "execution_count": 14,
   "id": "8351fefb",
   "metadata": {},
   "outputs": [
    {
     "name": "stdout",
     "output_type": "stream",
     "text": [
      "3.5\n"
     ]
    }
   ],
   "source": [
    "ans = 0\n",
    "\n",
    "# AA-AAで優性表現型が生まれる確率は1. 子どもの総数はS[0] * 2\n",
    "ans += 1 * S[0] * 2\n",
    "# AA-Aaで優性表現型が生まれる確率は1. 子どもの総数はS[1] * 2\n",
    "ans += 1 * S[1] * 2\n",
    "# AA-aaで優性表現型が生まれる確率は1. 子どもの総数はS[2] * 2\n",
    "ans += 1 * S[2] * 2\n",
    "# Aa-Aaで優性表現型が生まれる確率は3/4. 子どもの総数はS[3] * 2\n",
    "ans += 0.75 * S[3] * 2\n",
    "# Aa-aaで優性表現型が生まれる確率は1/2. 子どもの総数はS[4] * 2\n",
    "ans += 0.5 * S[4] * 2\n",
    "# aa-aaで優性表現型が生まれる確率は0. 子どもの総数はS[5] * 2\n",
    "ans += 0 * S[5] * 2\n",
    "\n",
    "P(ans)"
   ]
  },
  {
   "cell_type": "code",
   "execution_count": null,
   "id": "4c95194e",
   "metadata": {},
   "outputs": [],
   "source": []
  }
 ],
 "metadata": {
  "kernelspec": {
   "display_name": "base2",
   "language": "python",
   "name": "python3"
  },
  "language_info": {
   "codemirror_mode": {
    "name": "ipython",
    "version": 3
   },
   "file_extension": ".py",
   "mimetype": "text/x-python",
   "name": "python",
   "nbconvert_exporter": "python",
   "pygments_lexer": "ipython3",
   "version": "3.12.10"
  }
 },
 "nbformat": 4,
 "nbformat_minor": 5
}
