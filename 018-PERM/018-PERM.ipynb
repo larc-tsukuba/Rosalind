{
 "cells": [
  {
   "cell_type": "markdown",
   "id": "0",
   "metadata": {},
   "source": [
    "# 018-PERM\n",
    "\n",
    "担当: 久野 朗広"
   ]
  },
  {
   "cell_type": "markdown",
   "id": "1",
   "metadata": {},
   "source": [
    "## 染色体再編成は大規模なゲノム変化を引き起こす\n",
    "\n",
    "点突然変異は、同一種内の個体群に変化をもたらすことはできますが、それだけでは新しい種を創出し、区別するほどの力はありません。このようなより大規模な変化は、「ゲノム再編成（genome rearrangements）」と呼ばれる大きな変異によってもたらされます。これらはDNAの巨大な領域を移動させます。再編成はゲノムに大きな変化を引き起こし、多くの場合、変異した細胞およびその子孫にとって致命的または重大なダメージとなります（多くのがんは再編成に由来しています）。このため、ある種全体のゲノムに影響を与えるような再編成は非常にまれです。\n",
    "\n",
    "種の進化に影響を与えるような再編成が起こるのはごくまれであるため、近縁の2種は非常によく似たゲノムを持っています。したがって、2つのゲノムを比較する際には、まず両種で似ているDNA領域を「シンテニー・ブロック（synteny blocks）」として特定します。時間の経過とともに、再編成がこれらのシンテニーブロックを作り、それらを異なるゲノム上に移動させてきました（しばしば異なる染色体に分離されます。図1参照）。\n",
    "\n",
    "異なる種の一対のシンテニーブロックは完全に一致するわけではありません（点突然変異や非常に小さな再編成の影響を受けています）が、大規模な再編成を研究する目的では、それらを同等と見なすことができます。その結果、各シンテニーブロックに正の整数を割り当てることができ、2種のゲノム（または染色体）を比較する際には、番号付きシンテニーブロックの並び順だけを示せばよくなります。\n",
    "\n",
    "\n"
   ]
  },
  {
   "cell_type": "markdown",
   "id": "2",
   "metadata": {},
   "source": [
    "## 問題\n",
    "\n",
    "長さ n の「順列」とは、正の整数 {1, 2, …, n} の並び替えのことです。\n",
    "たとえば、π = (5, 3, 2, 1, 4) は長さ5の順列です。\n",
    "\n",
    "与えられるもの：正の整数 n（n ≤ 7）\n",
    "求めるもの：長さ n の順列の総数と、そのすべての順列のリスト（順不同でよい）"
   ]
  },
  {
   "cell_type": "markdown",
   "id": "3",
   "metadata": {},
   "source": [
    "## 解答例"
   ]
  },
  {
   "cell_type": "code",
   "execution_count": null,
   "id": "4",
   "metadata": {},
   "outputs": [],
   "source": [
    "num = 7"
   ]
  },
  {
   "cell_type": "markdown",
   "id": "5",
   "metadata": {},
   "source": [
    "## itertools.permutationを使う"
   ]
  },
  {
   "cell_type": "code",
   "execution_count": null,
   "id": "6",
   "metadata": {},
   "outputs": [],
   "source": [
    "from itertools import permutations\n",
    "counts = 0\n",
    "perm = []\n",
    "\n",
    "for record in permutations(range(1, num + 1), num):\n",
    "    counts += 1\n",
    "    perm.append(record)\n",
    "\n",
    "\n",
    "print(counts)\n",
    "for p in perm:\n",
    "    print(*p)"
   ]
  },
  {
   "cell_type": "code",
   "execution_count": null,
   "id": "7",
   "metadata": {},
   "outputs": [],
   "source": []
  }
 ],
 "metadata": {
  "kernelspec": {
   "display_name": "base2",
   "language": "python",
   "name": "python3"
  },
  "language_info": {
   "codemirror_mode": {
    "name": "ipython",
    "version": 3
   },
   "file_extension": ".py",
   "mimetype": "text/x-python",
   "name": "python",
   "nbconvert_exporter": "python",
   "pygments_lexer": "ipython3",
   "version": "3.12.8"
  }
 },
 "nbformat": 4,
 "nbformat_minor": 5
}
